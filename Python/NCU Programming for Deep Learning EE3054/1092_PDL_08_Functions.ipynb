{
 "cells": [
  {
   "cell_type": "raw",
   "metadata": {},
   "source": [
    "Bill Lubanovic (2019). Introducing Python: Modern Computing in Simple Packages. Chapter 9"
   ]
  },
  {
   "cell_type": "markdown",
   "metadata": {},
   "source": [
    "# Functions"
   ]
  },
  {
   "cell_type": "markdown",
   "metadata": {},
   "source": [
    "The first step to code reuse is the function: a named piece of code, separate from all others. A function can take any number and type of input parameters and return any number and type of output results."
   ]
  },
  {
   "cell_type": "markdown",
   "metadata": {},
   "source": [
    "You can do two things with a function:\n",
    "* Define it, with zero or more parameters\n",
    "* Call it, and get zero or more results"
   ]
  },
  {
   "cell_type": "markdown",
   "metadata": {},
   "source": [
    "## Define a Function with def"
   ]
  },
  {
   "cell_type": "markdown",
   "metadata": {},
   "source": [
    "To define a Python function, you type def, the function name, parentheses enclosing any input parameters to the function, and then finally, a colon( : )."
   ]
  },
  {
   "cell_type": "markdown",
   "metadata": {},
   "source": [
    "Function names have the same rules as variable names (they must start with a letter or _ and contain only letters, numbers, or _)"
   ]
  },
  {
   "cell_type": "markdown",
   "metadata": {},
   "source": [
    "Even for a function with no paramters, you still need the parentheses and the colon in its definition. The next line needs to be indented. Python requires the pass statement to show that this function does nothing. "
   ]
  },
  {
   "cell_type": "code",
   "execution_count": 1,
   "metadata": {},
   "outputs": [],
   "source": [
    "def do_nothing():\n",
    "    pass"
   ]
  },
  {
   "cell_type": "markdown",
   "metadata": {},
   "source": [
    "## Call a Function with Parentheses"
   ]
  },
  {
   "cell_type": "markdown",
   "metadata": {},
   "source": [
    "You call the function just by typing its name and parenthese"
   ]
  },
  {
   "cell_type": "code",
   "execution_count": 2,
   "metadata": {},
   "outputs": [],
   "source": [
    "do_nothing()"
   ]
  },
  {
   "cell_type": "code",
   "execution_count": 3,
   "metadata": {},
   "outputs": [],
   "source": [
    "def make_a_sound():\n",
    "    print('quack')"
   ]
  },
  {
   "cell_type": "code",
   "execution_count": 4,
   "metadata": {},
   "outputs": [
    {
     "name": "stdout",
     "output_type": "stream",
     "text": [
      "quack\n"
     ]
    }
   ],
   "source": [
    "make_a_sound()"
   ]
  },
  {
   "cell_type": "markdown",
   "metadata": {},
   "source": [
    "Let's try a function that has no parameters but returns a value. You can call this function and test its returned value by using if."
   ]
  },
  {
   "cell_type": "code",
   "execution_count": 5,
   "metadata": {},
   "outputs": [],
   "source": [
    "def agree():\n",
    "    return True"
   ]
  },
  {
   "cell_type": "code",
   "execution_count": 6,
   "metadata": {},
   "outputs": [
    {
     "name": "stdout",
     "output_type": "stream",
     "text": [
      "Splendid!\n"
     ]
    }
   ],
   "source": [
    "if agree():\n",
    "    print('Splendid!')\n",
    "else:\n",
    "    print('That was unexpected.')"
   ]
  },
  {
   "cell_type": "markdown",
   "metadata": {},
   "source": [
    "## Arguments and Parameters"
   ]
  },
  {
   "cell_type": "markdown",
   "metadata": {},
   "source": [
    "The values you pass into the function when you call it are known as arguments. When you call a function with arguments, the values of those arguments are copied to their corresponding parameters inside the function"
   ]
  },
  {
   "cell_type": "code",
   "execution_count": 7,
   "metadata": {},
   "outputs": [],
   "source": [
    "def echo(anything):\n",
    "    return anything + ' ' + anything"
   ]
  },
  {
   "cell_type": "code",
   "execution_count": 8,
   "metadata": {},
   "outputs": [
    {
     "data": {
      "text/plain": [
       "'Rumplestiltskin Rumplestiltskin'"
      ]
     },
     "execution_count": 8,
     "metadata": {},
     "output_type": "execute_result"
    }
   ],
   "source": [
    "echo ('Rumplestiltskin')"
   ]
  },
  {
   "cell_type": "code",
   "execution_count": 9,
   "metadata": {},
   "outputs": [],
   "source": [
    "def commentary(color):\n",
    "    if color == 'red':\n",
    "        return \"It's a tomato.\"\n",
    "    elif color == 'green':\n",
    "        return \"It's a green pepper.\"\n",
    "    elif color == 'bee purple':\n",
    "        return \"I don't know what it is, but only bees can see it.\"\n",
    "    else: \n",
    "        return \"I've never heard of the color \" + color + \".\""
   ]
  },
  {
   "cell_type": "code",
   "execution_count": 10,
   "metadata": {},
   "outputs": [
    {
     "data": {
      "text/plain": [
       "\"I've never heard of the color blue.\""
      ]
     },
     "execution_count": 10,
     "metadata": {},
     "output_type": "execute_result"
    }
   ],
   "source": [
    "commentary('blue')"
   ]
  },
  {
   "cell_type": "markdown",
   "metadata": {},
   "source": [
    "A function can take any number of input arguments (including zero) of any type. It can return any number of output results (also including zero) of any type. If a function doesn't call return explicitly, the caller gets the result None. "
   ]
  },
  {
   "cell_type": "code",
   "execution_count": 11,
   "metadata": {},
   "outputs": [
    {
     "name": "stdout",
     "output_type": "stream",
     "text": [
      "None\n"
     ]
    }
   ],
   "source": [
    "print(do_nothing())"
   ]
  },
  {
   "cell_type": "markdown",
   "metadata": {},
   "source": [
    "## None is Useful"
   ]
  },
  {
   "cell_type": "markdown",
   "metadata": {},
   "source": [
    "None is a special Python value that holds a place when there is nothing to say. It's not the same as the boolean value False, although it looks false when evaluated as a boolean.  "
   ]
  },
  {
   "cell_type": "code",
   "execution_count": 12,
   "metadata": {},
   "outputs": [
    {
     "name": "stdout",
     "output_type": "stream",
     "text": [
      "It's no thing\n"
     ]
    }
   ],
   "source": [
    "thing = None\n",
    "if thing:\n",
    "    print(\"It's some thing\")\n",
    "else:\n",
    "    print(\"It's no thing\")"
   ]
  },
  {
   "cell_type": "markdown",
   "metadata": {},
   "source": [
    "To dintinguish None from a boolean False value, use Python's is operator"
   ]
  },
  {
   "cell_type": "code",
   "execution_count": 13,
   "metadata": {},
   "outputs": [
    {
     "name": "stdout",
     "output_type": "stream",
     "text": [
      "It's nothing\n"
     ]
    }
   ],
   "source": [
    "thing = None\n",
    "if thing is None:\n",
    "    print(\"It's nothing\")\n",
    "else:\n",
    "    print(\"It's something\")"
   ]
  },
  {
   "cell_type": "markdown",
   "metadata": {},
   "source": [
    "You'll need None to distinquish a missing value from an empty value"
   ]
  },
  {
   "cell_type": "markdown",
   "metadata": {},
   "source": [
    "Remember that zero-valued integers floats, empty string (' '), lists([ ]), tuple(( , )), dictionaries ({ }), and set (set( )) are all False, but are not the same as None "
   ]
  },
  {
   "cell_type": "code",
   "execution_count": 14,
   "metadata": {},
   "outputs": [],
   "source": [
    "def whatis(thing):\n",
    "    if thing is None:\n",
    "        print(thing, \"is None\")\n",
    "    elif thing:\n",
    "        print(thing, \"is True\")\n",
    "    else:\n",
    "        print(thing, \"is False\")"
   ]
  },
  {
   "cell_type": "code",
   "execution_count": 15,
   "metadata": {},
   "outputs": [
    {
     "name": "stdout",
     "output_type": "stream",
     "text": [
      "None is None\n"
     ]
    }
   ],
   "source": [
    "whatis(None)"
   ]
  },
  {
   "cell_type": "code",
   "execution_count": 16,
   "metadata": {},
   "outputs": [
    {
     "name": "stdout",
     "output_type": "stream",
     "text": [
      "True is True\n"
     ]
    }
   ],
   "source": [
    "whatis(True)"
   ]
  },
  {
   "cell_type": "code",
   "execution_count": 17,
   "metadata": {},
   "outputs": [
    {
     "name": "stdout",
     "output_type": "stream",
     "text": [
      "False is False\n"
     ]
    }
   ],
   "source": [
    "whatis(False)"
   ]
  },
  {
   "cell_type": "code",
   "execution_count": 18,
   "metadata": {},
   "outputs": [
    {
     "name": "stdout",
     "output_type": "stream",
     "text": [
      "0 is False\n"
     ]
    }
   ],
   "source": [
    "whatis(0)"
   ]
  },
  {
   "cell_type": "code",
   "execution_count": 19,
   "metadata": {},
   "outputs": [
    {
     "name": "stdout",
     "output_type": "stream",
     "text": [
      "0.0 is False\n"
     ]
    }
   ],
   "source": [
    "whatis(0.0)"
   ]
  },
  {
   "cell_type": "code",
   "execution_count": 20,
   "metadata": {},
   "outputs": [
    {
     "name": "stdout",
     "output_type": "stream",
     "text": [
      " is False\n"
     ]
    }
   ],
   "source": [
    "whatis('')"
   ]
  },
  {
   "cell_type": "code",
   "execution_count": 21,
   "metadata": {},
   "outputs": [
    {
     "name": "stdout",
     "output_type": "stream",
     "text": [
      " is False\n"
     ]
    }
   ],
   "source": [
    "whatis(\"\")"
   ]
  },
  {
   "cell_type": "code",
   "execution_count": 22,
   "metadata": {},
   "outputs": [
    {
     "name": "stdout",
     "output_type": "stream",
     "text": [
      " is False\n"
     ]
    }
   ],
   "source": [
    "whatis('''''')"
   ]
  },
  {
   "cell_type": "code",
   "execution_count": 23,
   "metadata": {},
   "outputs": [
    {
     "name": "stdout",
     "output_type": "stream",
     "text": [
      "() is False\n"
     ]
    }
   ],
   "source": [
    "whatis(())"
   ]
  },
  {
   "cell_type": "code",
   "execution_count": 24,
   "metadata": {},
   "outputs": [
    {
     "name": "stdout",
     "output_type": "stream",
     "text": [
      "[] is False\n"
     ]
    }
   ],
   "source": [
    "whatis([])"
   ]
  },
  {
   "cell_type": "code",
   "execution_count": 25,
   "metadata": {},
   "outputs": [
    {
     "name": "stdout",
     "output_type": "stream",
     "text": [
      "{} is False\n"
     ]
    }
   ],
   "source": [
    "whatis({})"
   ]
  },
  {
   "cell_type": "code",
   "execution_count": 26,
   "metadata": {},
   "outputs": [
    {
     "name": "stdout",
     "output_type": "stream",
     "text": [
      "set() is False\n"
     ]
    }
   ],
   "source": [
    "whatis(set())"
   ]
  },
  {
   "cell_type": "code",
   "execution_count": 27,
   "metadata": {},
   "outputs": [
    {
     "name": "stdout",
     "output_type": "stream",
     "text": [
      "1e-05 is True\n"
     ]
    }
   ],
   "source": [
    "whatis(0.00001)"
   ]
  },
  {
   "cell_type": "code",
   "execution_count": 28,
   "metadata": {},
   "outputs": [
    {
     "name": "stdout",
     "output_type": "stream",
     "text": [
      "[0] is True\n"
     ]
    }
   ],
   "source": [
    "whatis([0])"
   ]
  },
  {
   "cell_type": "code",
   "execution_count": 29,
   "metadata": {},
   "outputs": [
    {
     "name": "stdout",
     "output_type": "stream",
     "text": [
      "[''] is True\n"
     ]
    }
   ],
   "source": [
    "whatis([''])"
   ]
  },
  {
   "cell_type": "code",
   "execution_count": 30,
   "metadata": {},
   "outputs": [
    {
     "name": "stdout",
     "output_type": "stream",
     "text": [
      "  is True\n"
     ]
    }
   ],
   "source": [
    "whatis(' ')"
   ]
  },
  {
   "cell_type": "markdown",
   "metadata": {},
   "source": [
    "## Positional Arguments"
   ]
  },
  {
   "cell_type": "markdown",
   "metadata": {},
   "source": [
    "The most familiar types of arguments are positional arguments, whose values are copied to their corresponding parameters in order."
   ]
  },
  {
   "cell_type": "code",
   "execution_count": 31,
   "metadata": {},
   "outputs": [],
   "source": [
    "def menu(wine, entree, dessert):\n",
    "    return {'wine': wine, 'entree': entree, 'dessert': dessert}"
   ]
  },
  {
   "cell_type": "code",
   "execution_count": 32,
   "metadata": {},
   "outputs": [
    {
     "data": {
      "text/plain": [
       "{'wine': 'chardonnay', 'entree': 'chicken', 'dessert': 'cake'}"
      ]
     },
     "execution_count": 32,
     "metadata": {},
     "output_type": "execute_result"
    }
   ],
   "source": [
    "menu('chardonnay', 'chicken', 'cake')"
   ]
  },
  {
   "cell_type": "markdown",
   "metadata": {},
   "source": [
    "Although very common, a downside of positional arguments is that you need to remember the meaning of each position"
   ]
  },
  {
   "cell_type": "code",
   "execution_count": 33,
   "metadata": {},
   "outputs": [
    {
     "data": {
      "text/plain": [
       "{'wine': 'beef', 'entree': 'bagel', 'dessert': 'bordeaux'}"
      ]
     },
     "execution_count": 33,
     "metadata": {},
     "output_type": "execute_result"
    }
   ],
   "source": [
    "menu('beef', 'bagel', 'bordeaux')"
   ]
  },
  {
   "cell_type": "markdown",
   "metadata": {},
   "source": [
    "## Keyword Arguments"
   ]
  },
  {
   "cell_type": "markdown",
   "metadata": {},
   "source": [
    "To avoid positional argument confusion, you can specify arguments by the names of their corresponding parameters, even in a different order from their definition in the function"
   ]
  },
  {
   "cell_type": "code",
   "execution_count": 34,
   "metadata": {},
   "outputs": [
    {
     "data": {
      "text/plain": [
       "{'wine': 'bordeaux', 'entree': 'beef', 'dessert': 'bagel'}"
      ]
     },
     "execution_count": 34,
     "metadata": {},
     "output_type": "execute_result"
    }
   ],
   "source": [
    "menu(entree='beef', dessert='bagel', wine='bordeaux')"
   ]
  },
  {
   "cell_type": "markdown",
   "metadata": {},
   "source": [
    "You can mix positional and keyword arguments. If you call a function with both positional and keyword arguments, the positional arguments need to come first"
   ]
  },
  {
   "cell_type": "code",
   "execution_count": 35,
   "metadata": {},
   "outputs": [
    {
     "data": {
      "text/plain": [
       "{'wine': 'frontenac', 'entree': 'fish', 'dessert': 'flan'}"
      ]
     },
     "execution_count": 35,
     "metadata": {},
     "output_type": "execute_result"
    }
   ],
   "source": [
    "menu('frontenac', dessert='flan', entree='fish')"
   ]
  },
  {
   "cell_type": "markdown",
   "metadata": {},
   "source": [
    "## Specify Default Parameter Values"
   ]
  },
  {
   "cell_type": "markdown",
   "metadata": {},
   "source": [
    "The default is used if the caller does not provide a corresponding argument"
   ]
  },
  {
   "cell_type": "code",
   "execution_count": 36,
   "metadata": {},
   "outputs": [],
   "source": [
    "def menu(wine, entree, dessert='pudding'):\n",
    "    return {'wine': wine, 'entree': entree, 'dessert': dessert}"
   ]
  },
  {
   "cell_type": "code",
   "execution_count": 37,
   "metadata": {},
   "outputs": [
    {
     "data": {
      "text/plain": [
       "{'wine': 'chardonnay', 'entree': 'chicken', 'dessert': 'pudding'}"
      ]
     },
     "execution_count": 37,
     "metadata": {},
     "output_type": "execute_result"
    }
   ],
   "source": [
    "menu('chardonnay', 'chicken')"
   ]
  },
  {
   "cell_type": "markdown",
   "metadata": {},
   "source": [
    "If you do provide an argument, it's used instead of the default"
   ]
  },
  {
   "cell_type": "code",
   "execution_count": 38,
   "metadata": {},
   "outputs": [
    {
     "data": {
      "text/plain": [
       "{'wine': 'dunkelfelder', 'entree': 'duck', 'dessert': 'doughnut'}"
      ]
     },
     "execution_count": 38,
     "metadata": {},
     "output_type": "execute_result"
    }
   ],
   "source": [
    "menu('dunkelfelder', 'duck', 'doughnut')"
   ]
  },
  {
   "cell_type": "raw",
   "metadata": {},
   "source": [
    "Default parameter values are calculated when the function is defined, NOT when it is run"
   ]
  },
  {
   "cell_type": "code",
   "execution_count": 39,
   "metadata": {},
   "outputs": [],
   "source": [
    "def buggy(arg, result=[]):\n",
    "    result.append(arg)\n",
    "    print(result)"
   ]
  },
  {
   "cell_type": "code",
   "execution_count": 40,
   "metadata": {},
   "outputs": [
    {
     "name": "stdout",
     "output_type": "stream",
     "text": [
      "['a']\n"
     ]
    }
   ],
   "source": [
    "buggy('a')"
   ]
  },
  {
   "cell_type": "code",
   "execution_count": 41,
   "metadata": {},
   "outputs": [
    {
     "name": "stdout",
     "output_type": "stream",
     "text": [
      "['a', 'b']\n"
     ]
    }
   ],
   "source": [
    "buggy('b') # expect ['b']"
   ]
  },
  {
   "cell_type": "markdown",
   "metadata": {},
   "source": [
    "It would have worked if it had been written like this"
   ]
  },
  {
   "cell_type": "code",
   "execution_count": 42,
   "metadata": {},
   "outputs": [],
   "source": [
    "def works(arg):\n",
    "    result = []\n",
    "    result.append(arg)\n",
    "    return result"
   ]
  },
  {
   "cell_type": "code",
   "execution_count": 43,
   "metadata": {},
   "outputs": [
    {
     "data": {
      "text/plain": [
       "['a']"
      ]
     },
     "execution_count": 43,
     "metadata": {},
     "output_type": "execute_result"
    }
   ],
   "source": [
    "works('a')"
   ]
  },
  {
   "cell_type": "code",
   "execution_count": 44,
   "metadata": {},
   "outputs": [
    {
     "data": {
      "text/plain": [
       "['b']"
      ]
     },
     "execution_count": 44,
     "metadata": {},
     "output_type": "execute_result"
    }
   ],
   "source": [
    "works('b')"
   ]
  },
  {
   "cell_type": "markdown",
   "metadata": {},
   "source": [
    "The fix is to pass in something else to indicate the first call"
   ]
  },
  {
   "cell_type": "code",
   "execution_count": 45,
   "metadata": {},
   "outputs": [],
   "source": [
    "def nonbuggy(arg, result=None):\n",
    "    if result is None:\n",
    "        result = []\n",
    "    result.append(arg)\n",
    "    return result"
   ]
  },
  {
   "cell_type": "code",
   "execution_count": 46,
   "metadata": {},
   "outputs": [
    {
     "data": {
      "text/plain": [
       "['a']"
      ]
     },
     "execution_count": 46,
     "metadata": {},
     "output_type": "execute_result"
    }
   ],
   "source": [
    "nonbuggy('a')"
   ]
  },
  {
   "cell_type": "code",
   "execution_count": 47,
   "metadata": {},
   "outputs": [
    {
     "data": {
      "text/plain": [
       "['b']"
      ]
     },
     "execution_count": 47,
     "metadata": {},
     "output_type": "execute_result"
    }
   ],
   "source": [
    "nonbuggy('b')"
   ]
  },
  {
   "cell_type": "markdown",
   "metadata": {},
   "source": [
    "## Explode/Gather Positional Arguments with *"
   ]
  },
  {
   "cell_type": "raw",
   "metadata": {},
   "source": [
    "Python doesn't have pointers"
   ]
  },
  {
   "cell_type": "markdown",
   "metadata": {},
   "source": [
    "When used inside the function with a parameter, an asterisk ( * ) groups a variable number of positional arguments into a single tuple of parameter values"
   ]
  },
  {
   "cell_type": "code",
   "execution_count": 48,
   "metadata": {},
   "outputs": [],
   "source": [
    "def print_args(*args):\n",
    "    print('Positional tuple:', args)"
   ]
  },
  {
   "cell_type": "code",
   "execution_count": 49,
   "metadata": {},
   "outputs": [
    {
     "name": "stdout",
     "output_type": "stream",
     "text": [
      "Positional tuple: ()\n"
     ]
    }
   ],
   "source": [
    "print_args()"
   ]
  },
  {
   "cell_type": "code",
   "execution_count": 50,
   "metadata": {},
   "outputs": [
    {
     "name": "stdout",
     "output_type": "stream",
     "text": [
      "Positional tuple: (3, 2, 1, 'wait!', 'uh...')\n"
     ]
    }
   ],
   "source": [
    "print_args(3, 2, 1, 'wait!', 'uh...')"
   ]
  },
  {
   "cell_type": "markdown",
   "metadata": {},
   "source": [
    "If your function has requried positional arguments, put them first; *args goes at the end and grabs all the rest"
   ]
  },
  {
   "cell_type": "code",
   "execution_count": 51,
   "metadata": {},
   "outputs": [],
   "source": [
    "def print_more(required1, required2, *arg):\n",
    "    print('Need this one:', required1)\n",
    "    print('Need this one too:', required2)\n",
    "    print('All the rest:', arg)"
   ]
  },
  {
   "cell_type": "code",
   "execution_count": 52,
   "metadata": {},
   "outputs": [
    {
     "name": "stdout",
     "output_type": "stream",
     "text": [
      "Need this one: cap\n",
      "Need this one too: gloves\n",
      "All the rest: ('scarf', 'monocle', 'mustache wax')\n"
     ]
    }
   ],
   "source": [
    "print_more('cap', 'gloves', 'scarf', 'monocle', 'mustache wax')"
   ]
  },
  {
   "cell_type": "markdown",
   "metadata": {},
   "source": [
    "Summary:\n",
    "* You can pass positional argument to a function, which will match them inside to positional parameters.\n",
    "* You can pass a tuple argument to a function, and inside it will be a tuple parameter.  \n",
    "* You can pass positional argument to a function, and gather them inside as the parameter *args, which resolves to the tuple args. \n",
    "* You can also explode a tuple argument called args to positional parameters *args inside the function, which will be regathered inside into the tuple parameter args. "
   ]
  },
  {
   "cell_type": "code",
   "execution_count": 53,
   "metadata": {},
   "outputs": [
    {
     "name": "stdout",
     "output_type": "stream",
     "text": [
      "Positional tuple: (2, 5, 7, 'x')\n"
     ]
    }
   ],
   "source": [
    "print_args(2, 5, 7, 'x')"
   ]
  },
  {
   "cell_type": "code",
   "execution_count": 54,
   "metadata": {},
   "outputs": [
    {
     "name": "stdout",
     "output_type": "stream",
     "text": [
      "Positional tuple: ((2, 5, 7, 'x'),)\n"
     ]
    }
   ],
   "source": [
    "args = (2, 5, 7, 'x')\n",
    "print_args(args)"
   ]
  },
  {
   "cell_type": "code",
   "execution_count": 55,
   "metadata": {},
   "outputs": [
    {
     "name": "stdout",
     "output_type": "stream",
     "text": [
      "Positional tuple: (2, 5, 7, 'x')\n"
     ]
    }
   ],
   "source": [
    "print_args(*args)"
   ]
  },
  {
   "cell_type": "markdown",
   "metadata": {},
   "source": [
    "You can only use the * syntax in a function call or definition"
   ]
  },
  {
   "cell_type": "code",
   "execution_count": 56,
   "metadata": {},
   "outputs": [
    {
     "ename": "SyntaxError",
     "evalue": "can't use starred expression here (<ipython-input-56-040fcb6bb52c>, line 4)",
     "output_type": "error",
     "traceback": [
      "\u001b[0;36m  File \u001b[0;32m\"<ipython-input-56-040fcb6bb52c>\"\u001b[0;36m, line \u001b[0;32m4\u001b[0m\n\u001b[0;31mSyntaxError\u001b[0m\u001b[0;31m:\u001b[0m can't use starred expression here\n"
     ]
    }
   ],
   "source": [
    "*args"
   ]
  },
  {
   "cell_type": "raw",
   "metadata": {},
   "source": [
    "Outside the function, *args explodes the tuple args into comma-separated positional arguments"
   ]
  },
  {
   "cell_type": "raw",
   "metadata": {},
   "source": [
    "Inside the function, *args gathers all of the positional arguments into a single args tuple"
   ]
  },
  {
   "cell_type": "markdown",
   "metadata": {},
   "source": [
    "## Explode/Gather Keyword Arguments with **"
   ]
  },
  {
   "cell_type": "markdown",
   "metadata": {},
   "source": [
    "You can use two asterisks ( ** ) to group keyword arguments into a dictionary, where the argument names are keys, and their values are the corresponding dictionary values"
   ]
  },
  {
   "cell_type": "code",
   "execution_count": 57,
   "metadata": {},
   "outputs": [],
   "source": [
    "def print_kwargs(**kwargs):\n",
    "    print('Keyword arguments:', kwargs)"
   ]
  },
  {
   "cell_type": "code",
   "execution_count": 58,
   "metadata": {},
   "outputs": [
    {
     "name": "stdout",
     "output_type": "stream",
     "text": [
      "Keyword arguments: {}\n"
     ]
    }
   ],
   "source": [
    "print_kwargs()"
   ]
  },
  {
   "cell_type": "code",
   "execution_count": 59,
   "metadata": {},
   "outputs": [
    {
     "name": "stdout",
     "output_type": "stream",
     "text": [
      "Keyword arguments: {'wind': 'merlot', 'entree': 'mutton', 'dessert': 'macaroon'}\n"
     ]
    }
   ],
   "source": [
    "print_kwargs(wind='merlot', entree='mutton', dessert='macaroon')"
   ]
  },
  {
   "cell_type": "markdown",
   "metadata": {},
   "source": [
    "Inside the function, kwargs is a dictionary parameter. "
   ]
  },
  {
   "cell_type": "markdown",
   "metadata": {},
   "source": [
    "Argument order is:\n",
    "* Required positional arguments\n",
    "* Optional positional arguments (*args)\n",
    "* Optional keyword arguments (**kwargs)"
   ]
  },
  {
   "cell_type": "markdown",
   "metadata": {},
   "source": [
    "The ** syntax is valid only in a function call or definition"
   ]
  },
  {
   "cell_type": "code",
   "execution_count": 60,
   "metadata": {},
   "outputs": [
    {
     "ename": "SyntaxError",
     "evalue": "invalid syntax (<ipython-input-60-95eabc8c742d>, line 1)",
     "output_type": "error",
     "traceback": [
      "\u001b[0;36m  File \u001b[0;32m\"<ipython-input-60-95eabc8c742d>\"\u001b[0;36m, line \u001b[0;32m1\u001b[0m\n\u001b[0;31m    **kwargs\u001b[0m\n\u001b[0m     ^\u001b[0m\n\u001b[0;31mSyntaxError\u001b[0m\u001b[0;31m:\u001b[0m invalid syntax\n"
     ]
    }
   ],
   "source": [
    "**kwargs"
   ]
  },
  {
   "cell_type": "markdown",
   "metadata": {},
   "source": [
    "Summary:\n",
    "* You can pass keyword arguments to a function, which will match them inside to keyword parameters.\n",
    "* You can pass a dictionary argument to a function, and inside it will be dictionary parameters.  \n",
    "* You can pass one or more keyword arguments (name=value) to a function, and gather them inside as **kwargs, which resolves to the dictionary parameter called kwargs. \n",
    "* Outside a function, **kwargs explodes a dictionary kwargs into name=value arguments.\n",
    "* Inside a function, **kwargs gather name=value arguments into the single dictionary parameter kwargs. "
   ]
  },
  {
   "cell_type": "markdown",
   "metadata": {},
   "source": [
    "## Keyword-Only Arguments "
   ]
  },
  {
   "cell_type": "markdown",
   "metadata": {},
   "source": [
    "It's possible to pass in a keyword argument that has the same name as a positional parameter, probably not resulting in what you want."
   ]
  },
  {
   "cell_type": "markdown",
   "metadata": {},
   "source": [
    "Python 3 lets you specify keyword-only arguments, they must be provided as name=value, not positionally as value. The single * in the function definition means that the following parameter must be provided as named arguments if we don't want their default values. "
   ]
  },
  {
   "cell_type": "code",
   "execution_count": 61,
   "metadata": {},
   "outputs": [],
   "source": [
    "def print_data(data, *, start=0, end=100):\n",
    "    for value in (data[start:end]):\n",
    "        print(value)"
   ]
  },
  {
   "cell_type": "code",
   "execution_count": 62,
   "metadata": {},
   "outputs": [],
   "source": [
    "data = ['a', 'b', 'c', 'd', 'e', 'f']"
   ]
  },
  {
   "cell_type": "code",
   "execution_count": 63,
   "metadata": {},
   "outputs": [
    {
     "name": "stdout",
     "output_type": "stream",
     "text": [
      "a\n",
      "b\n",
      "c\n",
      "d\n",
      "e\n",
      "f\n"
     ]
    }
   ],
   "source": [
    "print_data(data)"
   ]
  },
  {
   "cell_type": "code",
   "execution_count": 64,
   "metadata": {},
   "outputs": [
    {
     "name": "stdout",
     "output_type": "stream",
     "text": [
      "e\n",
      "f\n"
     ]
    }
   ],
   "source": [
    "print_data(data, start=4)"
   ]
  },
  {
   "cell_type": "code",
   "execution_count": 65,
   "metadata": {},
   "outputs": [
    {
     "name": "stdout",
     "output_type": "stream",
     "text": [
      "a\n",
      "b\n"
     ]
    }
   ],
   "source": [
    "print_data(data, end=2)"
   ]
  },
  {
   "cell_type": "markdown",
   "metadata": {},
   "source": [
    "## Mutable and Immutable Arguments"
   ]
  },
  {
   "cell_type": "markdown",
   "metadata": {},
   "source": [
    "If an argument is mutable, its value can be changed from inside the function via its corresponding parameter"
   ]
  },
  {
   "cell_type": "code",
   "execution_count": 66,
   "metadata": {},
   "outputs": [],
   "source": [
    "outside = ['one', 'fine', 'day']"
   ]
  },
  {
   "cell_type": "code",
   "execution_count": 67,
   "metadata": {},
   "outputs": [],
   "source": [
    "def mangle(arg):\n",
    "    arg[1] = 'terrible!'"
   ]
  },
  {
   "cell_type": "code",
   "execution_count": 68,
   "metadata": {},
   "outputs": [
    {
     "data": {
      "text/plain": [
       "['one', 'fine', 'day']"
      ]
     },
     "execution_count": 68,
     "metadata": {},
     "output_type": "execute_result"
    }
   ],
   "source": [
    "outside"
   ]
  },
  {
   "cell_type": "code",
   "execution_count": 69,
   "metadata": {},
   "outputs": [],
   "source": [
    "mangle(outside)"
   ]
  },
  {
   "cell_type": "code",
   "execution_count": 70,
   "metadata": {},
   "outputs": [
    {
     "data": {
      "text/plain": [
       "['one', 'terrible!', 'day']"
      ]
     },
     "execution_count": 70,
     "metadata": {},
     "output_type": "execute_result"
    }
   ],
   "source": [
    "outside"
   ]
  },
  {
   "cell_type": "markdown",
   "metadata": {},
   "source": [
    "## Docstrings"
   ]
  },
  {
   "cell_type": "markdown",
   "metadata": {},
   "source": [
    "You can attach documentation to a function definition by including a string at the begining of the function body. You can make a docstring quite long, and even add rich formatting if you want.  "
   ]
  },
  {
   "cell_type": "code",
   "execution_count": 71,
   "metadata": {},
   "outputs": [],
   "source": [
    "def echo(anything):\n",
    "    'echo returns its input argument'\n",
    "    return anything"
   ]
  },
  {
   "cell_type": "code",
   "execution_count": 72,
   "metadata": {},
   "outputs": [],
   "source": [
    "def print_if_true(thing, check):\n",
    "    '''\n",
    "    Prints the first argument if a second argument is true.\n",
    "    The operation is:\n",
    "        1. Check whether the *second* argument is true.\n",
    "        2. If it is, print the *first* argument. \n",
    "    '''\n",
    "    if check: \n",
    "        print(thing)"
   ]
  },
  {
   "cell_type": "markdown",
   "metadata": {},
   "source": [
    "To print a function's docstring, call the Python help( ) function."
   ]
  },
  {
   "cell_type": "code",
   "execution_count": 73,
   "metadata": {},
   "outputs": [
    {
     "name": "stdout",
     "output_type": "stream",
     "text": [
      "Help on function echo in module __main__:\n",
      "\n",
      "echo(anything)\n",
      "    echo returns its input argument\n",
      "\n"
     ]
    }
   ],
   "source": [
    "help(echo)"
   ]
  },
  {
   "cell_type": "markdown",
   "metadata": {},
   "source": [
    "If you want to see just the raw docstring, without the formatting. The odd-looking \\__doc\\__ is the internal name of the docstring as a variable within the function. "
   ]
  },
  {
   "cell_type": "code",
   "execution_count": 74,
   "metadata": {},
   "outputs": [
    {
     "name": "stdout",
     "output_type": "stream",
     "text": [
      "echo returns its input argument\n"
     ]
    }
   ],
   "source": [
    "print(echo.__doc__)"
   ]
  },
  {
   "cell_type": "markdown",
   "metadata": {},
   "source": [
    "## Functions are First-Class Citizens"
   ]
  },
  {
   "cell_type": "raw",
   "metadata": {},
   "source": [
    "The Python mantra, everything is an object"
   ]
  },
  {
   "cell_type": "markdown",
   "metadata": {},
   "source": [
    "Functions are first-class citizens in Python. You can assign them to variables, use them as arguments to other functions, and return them from functions"
   ]
  },
  {
   "cell_type": "code",
   "execution_count": 75,
   "metadata": {},
   "outputs": [],
   "source": [
    "def answer():\n",
    "    print(42)"
   ]
  },
  {
   "cell_type": "code",
   "execution_count": 76,
   "metadata": {},
   "outputs": [
    {
     "name": "stdout",
     "output_type": "stream",
     "text": [
      "42\n"
     ]
    }
   ],
   "source": [
    "answer()"
   ]
  },
  {
   "cell_type": "markdown",
   "metadata": {},
   "source": [
    "In Python, those parentheses mean call this function. With no parentheses, Python just treats the function like any other object"
   ]
  },
  {
   "cell_type": "code",
   "execution_count": 77,
   "metadata": {},
   "outputs": [],
   "source": [
    "def run_something(func):\n",
    "    func()"
   ]
  },
  {
   "cell_type": "code",
   "execution_count": 78,
   "metadata": {},
   "outputs": [
    {
     "name": "stdout",
     "output_type": "stream",
     "text": [
      "42\n"
     ]
    }
   ],
   "source": [
    "run_something(answer)"
   ]
  },
  {
   "cell_type": "code",
   "execution_count": 79,
   "metadata": {},
   "outputs": [
    {
     "data": {
      "text/plain": [
       "function"
      ]
     },
     "execution_count": 79,
     "metadata": {},
     "output_type": "execute_result"
    }
   ],
   "source": [
    "type(run_something)"
   ]
  },
  {
   "cell_type": "markdown",
   "metadata": {},
   "source": [
    "Let's try running a function with arguments"
   ]
  },
  {
   "cell_type": "code",
   "execution_count": 80,
   "metadata": {},
   "outputs": [],
   "source": [
    "def add_args(arg1, arg2):\n",
    "    print(arg1 + arg2)"
   ]
  },
  {
   "cell_type": "code",
   "execution_count": 81,
   "metadata": {},
   "outputs": [
    {
     "data": {
      "text/plain": [
       "function"
      ]
     },
     "execution_count": 81,
     "metadata": {},
     "output_type": "execute_result"
    }
   ],
   "source": [
    "type(add_args)"
   ]
  },
  {
   "cell_type": "code",
   "execution_count": 82,
   "metadata": {},
   "outputs": [],
   "source": [
    "def run_something_with_args(func, arg1, arg2):\n",
    "    func(arg1, arg2)"
   ]
  },
  {
   "cell_type": "code",
   "execution_count": 83,
   "metadata": {},
   "outputs": [
    {
     "name": "stdout",
     "output_type": "stream",
     "text": [
      "14\n"
     ]
    }
   ],
   "source": [
    "run_something_with_args(add_args, 5, 9)"
   ]
  },
  {
   "cell_type": "markdown",
   "metadata": {},
   "source": [
    "You can combine this with the \\*args and \\*\\*kwargs techniques"
   ]
  },
  {
   "cell_type": "code",
   "execution_count": 84,
   "metadata": {},
   "outputs": [],
   "source": [
    "def sum_args(*args):\n",
    "    return sum(args)"
   ]
  },
  {
   "cell_type": "code",
   "execution_count": 85,
   "metadata": {},
   "outputs": [],
   "source": [
    "def run_with_positional_args(func, *args):\n",
    "    return func(*args)"
   ]
  },
  {
   "cell_type": "code",
   "execution_count": 86,
   "metadata": {},
   "outputs": [
    {
     "data": {
      "text/plain": [
       "10"
      ]
     },
     "execution_count": 86,
     "metadata": {},
     "output_type": "execute_result"
    }
   ],
   "source": [
    "run_with_positional_args(sum_args, 1, 2, 3, 4)"
   ]
  },
  {
   "cell_type": "markdown",
   "metadata": {},
   "source": [
    "## Inner Functions"
   ]
  },
  {
   "cell_type": "markdown",
   "metadata": {},
   "source": [
    "You can define a function within another function. An inner function can be useful when performing some complex task more than once within another function, to avoid loops or code duplication.  "
   ]
  },
  {
   "cell_type": "code",
   "execution_count": 87,
   "metadata": {},
   "outputs": [],
   "source": [
    "def knights(saying):\n",
    "    def inner(quote):\n",
    "        return \"We are the knights who say: '%s'\" %quote\n",
    "    return inner(saying)"
   ]
  },
  {
   "cell_type": "code",
   "execution_count": 88,
   "metadata": {},
   "outputs": [
    {
     "data": {
      "text/plain": [
       "\"We are the knights who say: 'Ni!'\""
      ]
     },
     "execution_count": 88,
     "metadata": {},
     "output_type": "execute_result"
    }
   ],
   "source": [
    "knights('Ni!')"
   ]
  },
  {
   "cell_type": "markdown",
   "metadata": {},
   "source": [
    "## Closures"
   ]
  },
  {
   "cell_type": "markdown",
   "metadata": {},
   "source": [
    "An inner function can act as a closure. This is a function that is dynamically generated by another function and can both change and remenber the values of variables that were created outside the function"
   ]
  },
  {
   "cell_type": "markdown",
   "metadata": {},
   "source": [
    "* inner2( ) uses the outer saying parameter directly instead of getting it as an argument\n",
    "* knights( ) returns the inner2 function name instead of calling it"
   ]
  },
  {
   "cell_type": "code",
   "execution_count": 89,
   "metadata": {},
   "outputs": [],
   "source": [
    "def knights2(saying):\n",
    "    def inner2():\n",
    "        return \"We are the knights who say: '%s'\" % saying\n",
    "    return inner2"
   ]
  },
  {
   "cell_type": "markdown",
   "metadata": {},
   "source": [
    "That's a kind of closure: a dynamically created function that remembers where it cam from"
   ]
  },
  {
   "cell_type": "code",
   "execution_count": 90,
   "metadata": {},
   "outputs": [],
   "source": [
    "a = knights2('Duck')\n",
    "b = knights2('Hasenpfeffer')"
   ]
  },
  {
   "cell_type": "code",
   "execution_count": 91,
   "metadata": {},
   "outputs": [
    {
     "data": {
      "text/plain": [
       "function"
      ]
     },
     "execution_count": 91,
     "metadata": {},
     "output_type": "execute_result"
    }
   ],
   "source": [
    "type(a)"
   ]
  },
  {
   "cell_type": "code",
   "execution_count": 92,
   "metadata": {},
   "outputs": [
    {
     "data": {
      "text/plain": [
       "function"
      ]
     },
     "execution_count": 92,
     "metadata": {},
     "output_type": "execute_result"
    }
   ],
   "source": [
    "type(b)"
   ]
  },
  {
   "cell_type": "markdown",
   "metadata": {},
   "source": [
    "They're functions, but they're also closures"
   ]
  },
  {
   "cell_type": "code",
   "execution_count": 93,
   "metadata": {},
   "outputs": [
    {
     "data": {
      "text/plain": [
       "<function __main__.knights2.<locals>.inner2()>"
      ]
     },
     "execution_count": 93,
     "metadata": {},
     "output_type": "execute_result"
    }
   ],
   "source": [
    "a"
   ]
  },
  {
   "cell_type": "code",
   "execution_count": 94,
   "metadata": {},
   "outputs": [
    {
     "data": {
      "text/plain": [
       "<function __main__.knights2.<locals>.inner2()>"
      ]
     },
     "execution_count": 94,
     "metadata": {},
     "output_type": "execute_result"
    }
   ],
   "source": [
    "b"
   ]
  },
  {
   "cell_type": "markdown",
   "metadata": {},
   "source": [
    "If we call them, they remember the saying that was used when they were created by knights2"
   ]
  },
  {
   "cell_type": "code",
   "execution_count": 95,
   "metadata": {},
   "outputs": [
    {
     "data": {
      "text/plain": [
       "\"We are the knights who say: 'Duck'\""
      ]
     },
     "execution_count": 95,
     "metadata": {},
     "output_type": "execute_result"
    }
   ],
   "source": [
    "a()"
   ]
  },
  {
   "cell_type": "code",
   "execution_count": 96,
   "metadata": {},
   "outputs": [
    {
     "data": {
      "text/plain": [
       "\"We are the knights who say: 'Hasenpfeffer'\""
      ]
     },
     "execution_count": 96,
     "metadata": {},
     "output_type": "execute_result"
    }
   ],
   "source": [
    "b()"
   ]
  },
  {
   "cell_type": "markdown",
   "metadata": {},
   "source": [
    "## Anonymous Functions: lambda"
   ]
  },
  {
   "cell_type": "markdown",
   "metadata": {},
   "source": [
    "A Python lambda function is an anonymous function expressed as a single statement"
   ]
  },
  {
   "cell_type": "code",
   "execution_count": 97,
   "metadata": {},
   "outputs": [],
   "source": [
    "def edit_story(words, func):\n",
    "    for word in words:\n",
    "        print(func(word))"
   ]
  },
  {
   "cell_type": "code",
   "execution_count": 98,
   "metadata": {},
   "outputs": [],
   "source": [
    "stairs = ['thud', 'meow', 'thud', 'hiss']"
   ]
  },
  {
   "cell_type": "code",
   "execution_count": 99,
   "metadata": {},
   "outputs": [],
   "source": [
    "def enliven(word):\n",
    "    return word.capitalize() + '!'"
   ]
  },
  {
   "cell_type": "code",
   "execution_count": 100,
   "metadata": {},
   "outputs": [
    {
     "name": "stdout",
     "output_type": "stream",
     "text": [
      "Thud!\n",
      "Meow!\n",
      "Thud!\n",
      "Hiss!\n"
     ]
    }
   ],
   "source": [
    "edit_story(stairs, enliven)"
   ]
  },
  {
   "cell_type": "markdown",
   "metadata": {},
   "source": [
    "The enliven( ) function was so brief that we could replace it with a lambda. A lambda has zero or more comma-separated arguments, followed by a colon( : ), and then the definition of the function. "
   ]
  },
  {
   "cell_type": "code",
   "execution_count": 101,
   "metadata": {},
   "outputs": [
    {
     "name": "stdout",
     "output_type": "stream",
     "text": [
      "Thud!\n",
      "Meow!\n",
      "Thud!\n",
      "Hiss!\n"
     ]
    }
   ],
   "source": [
    "edit_story(stairs, lambda word: word.capitalize()+'!')"
   ]
  },
  {
   "cell_type": "markdown",
   "metadata": {},
   "source": [
    "## Generators"
   ]
  },
  {
   "cell_type": "markdown",
   "metadata": {},
   "source": [
    "A generator is a Python sequence creation object. With it, you can iterate through potentially huge sequences without creating and storing the entire sequence in memory at once. "
   ]
  },
  {
   "cell_type": "markdown",
   "metadata": {},
   "source": [
    "Generators are often the source of data for iterators. Every time you iterate through a generator, it keeps track of where it was the last time it was called and returns the next value."
   ]
  },
  {
   "cell_type": "code",
   "execution_count": 102,
   "metadata": {},
   "outputs": [
    {
     "data": {
      "text/plain": [
       "5050"
      ]
     },
     "execution_count": 102,
     "metadata": {},
     "output_type": "execute_result"
    }
   ],
   "source": [
    "sum(range(1,101))"
   ]
  },
  {
   "cell_type": "markdown",
   "metadata": {},
   "source": [
    "## Generator Functions"
   ]
  },
  {
   "cell_type": "markdown",
   "metadata": {},
   "source": [
    "If you want to create a potentially large sequence, you can write a generator function. It's a normal function, but it returns its value with a yield statement rather than return."
   ]
  },
  {
   "cell_type": "code",
   "execution_count": 103,
   "metadata": {},
   "outputs": [],
   "source": [
    "def my_range(first=0, last=10, step=1):\n",
    "    number = first\n",
    "    while number < last:\n",
    "        yield number \n",
    "        number += step"
   ]
  },
  {
   "cell_type": "code",
   "execution_count": 104,
   "metadata": {},
   "outputs": [
    {
     "data": {
      "text/plain": [
       "<function __main__.my_range(first=0, last=10, step=1)>"
      ]
     },
     "execution_count": 104,
     "metadata": {},
     "output_type": "execute_result"
    }
   ],
   "source": [
    "my_range "
   ]
  },
  {
   "cell_type": "code",
   "execution_count": 105,
   "metadata": {},
   "outputs": [
    {
     "data": {
      "text/plain": [
       "<generator object my_range at 0x10b051c50>"
      ]
     },
     "execution_count": 105,
     "metadata": {},
     "output_type": "execute_result"
    }
   ],
   "source": [
    "ranger = my_range(1, 5)\n",
    "ranger  # a generator object"
   ]
  },
  {
   "cell_type": "code",
   "execution_count": 106,
   "metadata": {},
   "outputs": [
    {
     "name": "stdout",
     "output_type": "stream",
     "text": [
      "1\n",
      "2\n",
      "3\n",
      "4\n"
     ]
    }
   ],
   "source": [
    "for x in ranger:\n",
    "    print(x)"
   ]
  },
  {
   "cell_type": "markdown",
   "metadata": {},
   "source": [
    "If you try to iterate the generator again, you'll find that it's tapped out"
   ]
  },
  {
   "cell_type": "code",
   "execution_count": 107,
   "metadata": {},
   "outputs": [],
   "source": [
    "for try_again in ranger:\n",
    "    print(try_again)"
   ]
  },
  {
   "cell_type": "markdown",
   "metadata": {},
   "source": [
    "## Generator Comprehensions"
   ]
  },
  {
   "cell_type": "markdown",
   "metadata": {},
   "source": [
    "A generator comprehension is a surrounded by parentheses instead of square or curly brackets. It's like a shorthand version of a generator function, doing the yield invisibly, and also returns a generator object. "
   ]
  },
  {
   "cell_type": "code",
   "execution_count": 108,
   "metadata": {},
   "outputs": [],
   "source": [
    "genobj = (pair for pair in zip(['a', 'b'], ['1', '2']))"
   ]
  },
  {
   "cell_type": "code",
   "execution_count": 109,
   "metadata": {},
   "outputs": [
    {
     "data": {
      "text/plain": [
       "<generator object <genexpr> at 0x10b051bd0>"
      ]
     },
     "execution_count": 109,
     "metadata": {},
     "output_type": "execute_result"
    }
   ],
   "source": [
    "genobj"
   ]
  },
  {
   "cell_type": "code",
   "execution_count": 110,
   "metadata": {},
   "outputs": [
    {
     "name": "stdout",
     "output_type": "stream",
     "text": [
      "('a', '1')\n",
      "('b', '2')\n"
     ]
    }
   ],
   "source": [
    "for thing in genobj:\n",
    "    print(thing)"
   ]
  },
  {
   "cell_type": "markdown",
   "metadata": {},
   "source": [
    "## Decorators"
   ]
  },
  {
   "cell_type": "markdown",
   "metadata": {},
   "source": [
    "A decorator is a function that takes one function as input and returns another function "
   ]
  },
  {
   "cell_type": "code",
   "execution_count": 111,
   "metadata": {},
   "outputs": [],
   "source": [
    "def document_it(func):\n",
    "    def new_function(*args, **kwargs):\n",
    "        print('Running function:', func.__name__)\n",
    "        print('Positional arguments:', args)\n",
    "        print('Keyword arguments:', kwargs)\n",
    "        result = func(*args, **kwargs)\n",
    "        print('Result:', result)\n",
    "        return result\n",
    "    return new_function"
   ]
  },
  {
   "cell_type": "code",
   "execution_count": 112,
   "metadata": {},
   "outputs": [],
   "source": [
    "def add_ints(a, b):\n",
    "    return a + b"
   ]
  },
  {
   "cell_type": "code",
   "execution_count": 113,
   "metadata": {},
   "outputs": [
    {
     "data": {
      "text/plain": [
       "8"
      ]
     },
     "execution_count": 113,
     "metadata": {},
     "output_type": "execute_result"
    }
   ],
   "source": [
    "add_ints(3, 5)"
   ]
  },
  {
   "cell_type": "code",
   "execution_count": 114,
   "metadata": {},
   "outputs": [],
   "source": [
    "cooler_add_ints = document_it(add_ints) # manual decorator assignment"
   ]
  },
  {
   "cell_type": "code",
   "execution_count": 115,
   "metadata": {},
   "outputs": [
    {
     "name": "stdout",
     "output_type": "stream",
     "text": [
      "Running function: add_ints\n",
      "Positional arguments: (3, 5)\n",
      "Keyword arguments: {}\n",
      "Result: 8\n"
     ]
    },
    {
     "data": {
      "text/plain": [
       "8"
      ]
     },
     "execution_count": 115,
     "metadata": {},
     "output_type": "execute_result"
    }
   ],
   "source": [
    "cooler_add_ints(3, 5)"
   ]
  },
  {
   "cell_type": "markdown",
   "metadata": {},
   "source": [
    "As an alternative to the manual decorator assignment we just looked at, you can add @decorator_name before the function that you want to decorate"
   ]
  },
  {
   "cell_type": "code",
   "execution_count": 116,
   "metadata": {},
   "outputs": [],
   "source": [
    "@document_it\n",
    "def add_ints(a, b):\n",
    "    return a + b"
   ]
  },
  {
   "cell_type": "code",
   "execution_count": 117,
   "metadata": {},
   "outputs": [
    {
     "name": "stdout",
     "output_type": "stream",
     "text": [
      "Running function: add_ints\n",
      "Positional arguments: (3, 5)\n",
      "Keyword arguments: {}\n",
      "Result: 8\n"
     ]
    },
    {
     "data": {
      "text/plain": [
       "8"
      ]
     },
     "execution_count": 117,
     "metadata": {},
     "output_type": "execute_result"
    }
   ],
   "source": [
    "add_ints(3, 5)"
   ]
  },
  {
   "cell_type": "markdown",
   "metadata": {},
   "source": [
    "You can have more than one decorator for a function. The decorator that's used closest to the function (just before the def) runs first and then the one above it. "
   ]
  },
  {
   "cell_type": "code",
   "execution_count": 118,
   "metadata": {},
   "outputs": [],
   "source": [
    "def square_it(func):\n",
    "    def new_function(*args, **kwargs):\n",
    "        result = func(*args, **kwargs)\n",
    "        return result * result\n",
    "    return new_function"
   ]
  },
  {
   "cell_type": "code",
   "execution_count": 119,
   "metadata": {},
   "outputs": [],
   "source": [
    "@document_it\n",
    "@square_it\n",
    "def add_ints(a, b):\n",
    "    return a + b"
   ]
  },
  {
   "cell_type": "code",
   "execution_count": 120,
   "metadata": {},
   "outputs": [
    {
     "name": "stdout",
     "output_type": "stream",
     "text": [
      "Running function: new_function\n",
      "Positional arguments: (3, 5)\n",
      "Keyword arguments: {}\n",
      "Result: 64\n"
     ]
    },
    {
     "data": {
      "text/plain": [
       "64"
      ]
     },
     "execution_count": 120,
     "metadata": {},
     "output_type": "execute_result"
    }
   ],
   "source": [
    "add_ints(3, 5)"
   ]
  },
  {
   "cell_type": "code",
   "execution_count": 121,
   "metadata": {},
   "outputs": [],
   "source": [
    "@square_it\n",
    "@document_it\n",
    "def add_ints(a, b):\n",
    "    return a + b"
   ]
  },
  {
   "cell_type": "code",
   "execution_count": 122,
   "metadata": {},
   "outputs": [
    {
     "name": "stdout",
     "output_type": "stream",
     "text": [
      "Running function: add_ints\n",
      "Positional arguments: (3, 5)\n",
      "Keyword arguments: {}\n",
      "Result: 8\n"
     ]
    },
    {
     "data": {
      "text/plain": [
       "64"
      ]
     },
     "execution_count": 122,
     "metadata": {},
     "output_type": "execute_result"
    }
   ],
   "source": [
    "add_ints(3, 5)"
   ]
  },
  {
   "cell_type": "markdown",
   "metadata": {},
   "source": [
    "## Namespaces and Scope"
   ]
  },
  {
   "cell_type": "markdown",
   "metadata": {},
   "source": [
    "A name can refer to different things, depending on where it's used. Python programs have various namespaces -- sections within which a particular name is unique and unrelated to the same name in other namespaces"
   ]
  },
  {
   "cell_type": "markdown",
   "metadata": {},
   "source": [
    "Each function defines its own namespace. The main part of a program defines the global namespace; thus, the variables in that namespaces are global variables"
   ]
  },
  {
   "cell_type": "markdown",
   "metadata": {},
   "source": [
    "You can get the value of a global variable from within a function"
   ]
  },
  {
   "cell_type": "code",
   "execution_count": 123,
   "metadata": {},
   "outputs": [],
   "source": [
    "animal = 'fruitbat'\n",
    "def print_global():\n",
    "    print('inside print_global:', animal)"
   ]
  },
  {
   "cell_type": "code",
   "execution_count": 124,
   "metadata": {},
   "outputs": [
    {
     "name": "stdout",
     "output_type": "stream",
     "text": [
      "at the top level: fruitbat\n"
     ]
    }
   ],
   "source": [
    "print('at the top level:', animal)"
   ]
  },
  {
   "cell_type": "code",
   "execution_count": 125,
   "metadata": {},
   "outputs": [
    {
     "name": "stdout",
     "output_type": "stream",
     "text": [
      "inside print_global: fruitbat\n"
     ]
    }
   ],
   "source": [
    "print_global()"
   ]
  },
  {
   "cell_type": "markdown",
   "metadata": {},
   "source": [
    "But if you try to get the value of the global variable and change it within the function, you get an error. "
   ]
  },
  {
   "cell_type": "code",
   "execution_count": 126,
   "metadata": {},
   "outputs": [],
   "source": [
    "def change_and_print_global():\n",
    "    print('inside change_and_print_global:', animal)\n",
    "    animal = 'wombat'\n",
    "    print('after the change:', animal)"
   ]
  },
  {
   "cell_type": "code",
   "execution_count": 127,
   "metadata": {},
   "outputs": [
    {
     "ename": "UnboundLocalError",
     "evalue": "local variable 'animal' referenced before assignment",
     "output_type": "error",
     "traceback": [
      "\u001b[0;31m---------------------------------------------------------------------------\u001b[0m",
      "\u001b[0;31mUnboundLocalError\u001b[0m                         Traceback (most recent call last)",
      "\u001b[0;32m<ipython-input-127-f8c8058a7439>\u001b[0m in \u001b[0;36m<module>\u001b[0;34m\u001b[0m\n\u001b[0;32m----> 1\u001b[0;31m \u001b[0mchange_and_print_global\u001b[0m\u001b[0;34m(\u001b[0m\u001b[0;34m)\u001b[0m\u001b[0;34m\u001b[0m\u001b[0;34m\u001b[0m\u001b[0m\n\u001b[0m",
      "\u001b[0;32m<ipython-input-126-6ffb51c3adcf>\u001b[0m in \u001b[0;36mchange_and_print_global\u001b[0;34m()\u001b[0m\n\u001b[1;32m      1\u001b[0m \u001b[0;32mdef\u001b[0m \u001b[0mchange_and_print_global\u001b[0m\u001b[0;34m(\u001b[0m\u001b[0;34m)\u001b[0m\u001b[0;34m:\u001b[0m\u001b[0;34m\u001b[0m\u001b[0;34m\u001b[0m\u001b[0m\n\u001b[0;32m----> 2\u001b[0;31m     \u001b[0mprint\u001b[0m\u001b[0;34m(\u001b[0m\u001b[0;34m'inside change_and_print_global:'\u001b[0m\u001b[0;34m,\u001b[0m \u001b[0manimal\u001b[0m\u001b[0;34m)\u001b[0m\u001b[0;34m\u001b[0m\u001b[0;34m\u001b[0m\u001b[0m\n\u001b[0m\u001b[1;32m      3\u001b[0m     \u001b[0manimal\u001b[0m \u001b[0;34m=\u001b[0m \u001b[0;34m'wombat'\u001b[0m\u001b[0;34m\u001b[0m\u001b[0;34m\u001b[0m\u001b[0m\n\u001b[1;32m      4\u001b[0m     \u001b[0mprint\u001b[0m\u001b[0;34m(\u001b[0m\u001b[0;34m'after the change:'\u001b[0m\u001b[0;34m,\u001b[0m \u001b[0manimal\u001b[0m\u001b[0;34m)\u001b[0m\u001b[0;34m\u001b[0m\u001b[0;34m\u001b[0m\u001b[0m\n",
      "\u001b[0;31mUnboundLocalError\u001b[0m: local variable 'animal' referenced before assignment"
     ]
    }
   ],
   "source": [
    "change_and_print_global()"
   ]
  },
  {
   "cell_type": "markdown",
   "metadata": {},
   "source": [
    "If you just change it, it changes a different variable also named animal, but this variable is inside the function"
   ]
  },
  {
   "cell_type": "code",
   "execution_count": 128,
   "metadata": {},
   "outputs": [],
   "source": [
    "def change_local():\n",
    "    animal = 'wombat' # local namespace\n",
    "    print('inside change_local:', animal, id(animal))"
   ]
  },
  {
   "cell_type": "code",
   "execution_count": 129,
   "metadata": {},
   "outputs": [
    {
     "name": "stdout",
     "output_type": "stream",
     "text": [
      "inside change_local: wombat 4479961136\n"
     ]
    }
   ],
   "source": [
    "change_local()"
   ]
  },
  {
   "cell_type": "code",
   "execution_count": 130,
   "metadata": {},
   "outputs": [
    {
     "data": {
      "text/plain": [
       "'fruitbat'"
      ]
     },
     "execution_count": 130,
     "metadata": {},
     "output_type": "execute_result"
    }
   ],
   "source": [
    "animal"
   ]
  },
  {
   "cell_type": "code",
   "execution_count": 131,
   "metadata": {},
   "outputs": [
    {
     "data": {
      "text/plain": [
       "4479666736"
      ]
     },
     "execution_count": 131,
     "metadata": {},
     "output_type": "execute_result"
    }
   ],
   "source": [
    "id(animal)"
   ]
  },
  {
   "cell_type": "markdown",
   "metadata": {},
   "source": [
    "To access the global variable rather than the local one within a function, you need to be explicit and use the global keyword"
   ]
  },
  {
   "cell_type": "code",
   "execution_count": 132,
   "metadata": {},
   "outputs": [],
   "source": [
    "animal = 'fruitbat'"
   ]
  },
  {
   "cell_type": "code",
   "execution_count": 133,
   "metadata": {},
   "outputs": [],
   "source": [
    "def change_and_print_global():\n",
    "    # if you don't say global, \n",
    "    # Python use the local namespace and the variable is local\n",
    "    global animal\n",
    "    animal = 'wombat'\n",
    "    print('inside change_and_print_global:', animal)"
   ]
  },
  {
   "cell_type": "code",
   "execution_count": 134,
   "metadata": {},
   "outputs": [
    {
     "data": {
      "text/plain": [
       "'fruitbat'"
      ]
     },
     "execution_count": 134,
     "metadata": {},
     "output_type": "execute_result"
    }
   ],
   "source": [
    "animal"
   ]
  },
  {
   "cell_type": "code",
   "execution_count": 135,
   "metadata": {},
   "outputs": [
    {
     "name": "stdout",
     "output_type": "stream",
     "text": [
      "inside change_and_print_global: wombat\n"
     ]
    }
   ],
   "source": [
    "change_and_print_global()"
   ]
  },
  {
   "cell_type": "code",
   "execution_count": 136,
   "metadata": {},
   "outputs": [
    {
     "data": {
      "text/plain": [
       "'wombat'"
      ]
     },
     "execution_count": 136,
     "metadata": {},
     "output_type": "execute_result"
    }
   ],
   "source": [
    "animal"
   ]
  },
  {
   "cell_type": "markdown",
   "metadata": {},
   "source": [
    "Python provides two functions to access the contents of your namespaces\n",
    "* locals( ) returns a dictionary of the contents of the local namespace.\n",
    "* globals( ) returns a dictionary of the contents of the global namespace."
   ]
  },
  {
   "cell_type": "code",
   "execution_count": 137,
   "metadata": {},
   "outputs": [],
   "source": [
    "animal = 'fruitbat'\n",
    "def change_local():\n",
    "    animal = 'wombat' # local variable\n",
    "    print('locals:', locals())"
   ]
  },
  {
   "cell_type": "code",
   "execution_count": 138,
   "metadata": {},
   "outputs": [
    {
     "data": {
      "text/plain": [
       "'fruitbat'"
      ]
     },
     "execution_count": 138,
     "metadata": {},
     "output_type": "execute_result"
    }
   ],
   "source": [
    "animal"
   ]
  },
  {
   "cell_type": "code",
   "execution_count": 139,
   "metadata": {},
   "outputs": [
    {
     "name": "stdout",
     "output_type": "stream",
     "text": [
      "locals: {'animal': 'wombat'}\n"
     ]
    }
   ],
   "source": [
    "# The local namespace within change_local() contained only the local variable animal\n",
    "change_local() "
   ]
  },
  {
   "cell_type": "code",
   "execution_count": 140,
   "metadata": {},
   "outputs": [
    {
     "name": "stdout",
     "output_type": "stream",
     "text": [
      "globals {'__name__': '__main__', '__doc__': 'Automatically created module for IPython interactive environment', '__package__': None, '__loader__': None, '__spec__': None, '__builtin__': <module 'builtins' (built-in)>, '__builtins__': <module 'builtins' (built-in)>, '_ih': ['', 'def do_nothing():\\n    pass', 'do_nothing()', \"def make_a_sound():\\n    print('quack')\", 'make_a_sound()', 'def agree():\\n    return True', \"if agree():\\n    print('Splendid!')\\nelse:\\n    print('That was unexpected.')\", \"def echo(anything):\\n    return anything + ' ' + anything\", \"echo ('Rumplestiltskin')\", 'def commentary(color):\\n    if color == \\'red\\':\\n        return \"It\\'s a tomato.\"\\n    elif color == \\'green\\':\\n        return \"It\\'s a green pepper.\"\\n    elif color == \\'bee purple\\':\\n        return \"I don\\'t know what it is, but only bees can see it.\"\\n    else: \\n        return \"I\\'ve never heard of the color \" + color + \".\"', \"commentary('blue')\", 'print(do_nothing())', 'thing = None\\nif thing:\\n    print(\"It\\'s some thing\")\\nelse:\\n    print(\"It\\'s no thing\")', 'thing = None\\nif thing is None:\\n    print(\"It\\'s nothing\")\\nelse:\\n    print(\"It\\'s something\")', 'def whatis(thing):\\n    if thing is None:\\n        print(thing, \"is None\")\\n    elif thing:\\n        print(thing, \"is True\")\\n    else:\\n        print(thing, \"is False\")', 'whatis(None)', 'whatis(True)', 'whatis(False)', 'whatis(0)', 'whatis(0.0)', \"whatis('')\", 'whatis(\"\")', \"whatis('''''')\", 'whatis(())', 'whatis([])', 'whatis({})', 'whatis(set())', 'whatis(0.00001)', 'whatis([0])', \"whatis([''])\", \"whatis(' ')\", \"def menu(wine, entree, dessert):\\n    return {'wine': wine, 'entree': entree, 'dessert': dessert}\", \"menu('chardonnay', 'chicken', 'cake')\", \"menu('beef', 'bagel', 'bordeaux')\", \"menu(entree='beef', dessert='bagel', wine='bordeaux')\", \"menu('frontenac', dessert='flan', entree='fish')\", \"def menu(wine, entree, dessert='pudding'):\\n    return {'wine': wine, 'entree': entree, 'dessert': dessert}\", \"menu('chardonnay', 'chicken')\", \"menu('dunkelfelder', 'duck', 'doughnut')\", 'def buggy(arg, result=[]):\\n    result.append(arg)\\n    print(result)', \"buggy('a')\", \"buggy('b') # expect ['b']\", 'def works(arg):\\n    result = []\\n    result.append(arg)\\n    return result', \"works('a')\", \"works('b')\", 'def nonbuggy(arg, result=None):\\n    if result is None:\\n        result = []\\n    result.append(arg)\\n    return result', \"nonbuggy('a')\", \"nonbuggy('b')\", \"def print_args(*args):\\n    print('Positional tuple:', args)\", 'print_args()', \"print_args(3, 2, 1, 'wait!', 'uh...')\", \"def print_more(required1, required2, *arg):\\n    print('Need this one:', required1)\\n    print('Need this one too:', required2)\\n    print('All the rest:', arg)\", \"print_more('cap', 'gloves', 'scarf', 'monocle', 'mustache wax')\", \"print_args(2, 5, 7, 'x')\", \"args = (2, 5, 7, 'x')\\nprint_args(args)\", 'print_args(*args)', '*args', \"def print_kwargs(**kwargs):\\n    print('Keyword arguments:', kwargs)\", 'print_kwargs()', \"print_kwargs(wind='merlot', entree='mutton', dessert='macaroon')\", '**kwargs', 'def print_data(data, *, start=0, end=100):\\n    for value in (data[start:end]):\\n        print(value)', \"data = ['a', 'b', 'c', 'd', 'e', 'f']\", 'print_data(data)', 'print_data(data, start=4)', 'print_data(data, end=2)', \"outside = ['one', 'fine', 'day']\", \"def mangle(arg):\\n    arg[1] = 'terrible!'\", 'outside', 'mangle(outside)', 'outside', \"def echo(anything):\\n    'echo returns its input argument'\\n    return anything\", \"def print_if_true(thing, check):\\n    '''\\n    Prints the first argument if a second argument is true.\\n    The operation is:\\n        1. Check whether the *second* argument is true.\\n        2. If it is, print the *first* argument. \\n    '''\\n    if check: \\n        print(thing)\", 'help(echo)', 'print(echo.__doc__)', 'def answer():\\n    print(42)', 'answer()', 'def run_something(func):\\n    func()', 'run_something(answer)', 'type(run_something)', 'def add_args(arg1, arg2):\\n    print(arg1 + arg2)', 'type(add_args)', 'def run_something_with_args(func, arg1, arg2):\\n    func(arg1, arg2)', 'run_something_with_args(add_args, 5, 9)', 'def sum_args(*args):\\n    return sum(args)', 'def run_with_positional_args(func, *args):\\n    return func(*args)', 'run_with_positional_args(sum_args, 1, 2, 3, 4)', 'def knights(saying):\\n    def inner(quote):\\n        return \"We are the knights who say: \\'%s\\'\" %quote\\n    return inner(saying)', \"knights('Ni!')\", 'def knights2(saying):\\n    def inner2():\\n        return \"We are the knights who say: \\'%s\\'\" % saying\\n    return inner2', \"a = knights2('Duck')\\nb = knights2('Hasenpfeffer')\", 'type(a)', 'type(b)', 'a', 'b', 'a()', 'b()', 'def edit_story(words, func):\\n    for word in words:\\n        print(func(word))', \"stairs = ['thud', 'meow', 'thud', 'hiss']\", \"def enliven(word):\\n    return word.capitalize() + '!'\", 'edit_story(stairs, enliven)', \"edit_story(stairs, lambda word: word.capitalize()+'!')\", 'sum(range(1,101))', 'def my_range(first=0, last=10, step=1):\\n    number = first\\n    while number < last:\\n        yield number \\n        number += step', 'my_range ', 'ranger = my_range(1, 5)\\nranger  # a generator object', 'for x in ranger:\\n    print(x)', 'for try_again in ranger:\\n    print(try_again)', \"genobj = (pair for pair in zip(['a', 'b'], ['1', '2']))\", 'genobj', 'for thing in genobj:\\n    print(thing)', \"def document_it(func):\\n    def new_function(*args, **kwargs):\\n        print('Running function:', func.__name__)\\n        print('Positional arguments:', args)\\n        print('Keyword arguments:', kwargs)\\n        result = func(*args, **kwargs)\\n        print('Result:', result)\\n        return result\\n    return new_function\", 'def add_ints(a, b):\\n    return a + b', 'add_ints(3, 5)', 'cooler_add_ints = document_it(add_ints) # manual decorator assignment', 'cooler_add_ints(3, 5)', '@document_it\\ndef add_ints(a, b):\\n    return a + b', 'add_ints(3, 5)', 'def square_it(func):\\n    def new_function(*args, **kwargs):\\n        result = func(*args, **kwargs)\\n        return result * result\\n    return new_function', '@document_it\\n@square_it\\ndef add_ints(a, b):\\n    return a + b', 'add_ints(3, 5)', '@square_it\\n@document_it\\ndef add_ints(a, b):\\n    return a + b', 'add_ints(3, 5)', \"animal = 'fruitbat'\\ndef print_global():\\n    print('inside print_global:', animal)\", \"print('at the top level:', animal)\", 'print_global()', \"def change_and_print_global():\\n    print('inside change_and_print_global:', animal)\\n    animal = 'wombat'\\n    print('after the change:', animal)\", 'change_and_print_global()', \"def change_local():\\n    animal = 'wombat' # local namespace\\n    print('inside change_local:', animal, id(animal))\", 'change_local()', 'animal', 'id(animal)', \"animal = 'fruitbat'\", \"def change_and_print_global():\\n    # if you don't say global, \\n    # Python use the local namespace and the variable is local\\n    global animal\\n    animal = 'wombat'\\n    print('inside change_and_print_global:', animal)\", 'animal', 'change_and_print_global()', 'animal', \"animal = 'fruitbat'\\ndef change_local():\\n    animal = 'wombat' # local variable\\n    print('locals:', locals())\", 'animal', '# The local namespace within change_local() contained only the local variable animal\\nchange_local() ', \"print('globals', globals())\"], '_oh': {8: 'Rumplestiltskin Rumplestiltskin', 10: \"I've never heard of the color blue.\", 32: {'wine': 'chardonnay', 'entree': 'chicken', 'dessert': 'cake'}, 33: {'wine': 'beef', 'entree': 'bagel', 'dessert': 'bordeaux'}, 34: {'wine': 'bordeaux', 'entree': 'beef', 'dessert': 'bagel'}, 35: {'wine': 'frontenac', 'entree': 'fish', 'dessert': 'flan'}, 37: {'wine': 'chardonnay', 'entree': 'chicken', 'dessert': 'pudding'}, 38: {'wine': 'dunkelfelder', 'entree': 'duck', 'dessert': 'doughnut'}, 43: ['a'], 44: ['b'], 46: ['a'], 47: ['b'], 68: ['one', 'terrible!', 'day'], 70: ['one', 'terrible!', 'day'], 79: <class 'function'>, 81: <class 'function'>, 86: 10, 88: \"We are the knights who say: 'Ni!'\", 91: <class 'function'>, 92: <class 'function'>, 93: <function knights2.<locals>.inner2 at 0x10b0713b0>, 94: <function knights2.<locals>.inner2 at 0x10b071440>, 95: \"We are the knights who say: 'Duck'\", 96: \"We are the knights who say: 'Hasenpfeffer'\", 102: 5050, 104: <function my_range at 0x10b071b90>, 105: <generator object my_range at 0x10b051c50>, 109: <generator object <genexpr> at 0x10b051bd0>, 113: 8, 115: 8, 117: 8, 120: 64, 122: 64, 130: 'fruitbat', 131: 4479666736, 134: 'fruitbat', 136: 'wombat', 138: 'fruitbat'}, '_dh': ['/Users/lunghaolee/Documents/NCU/Course/PDL/1092'], 'In': ['', 'def do_nothing():\\n    pass', 'do_nothing()', \"def make_a_sound():\\n    print('quack')\", 'make_a_sound()', 'def agree():\\n    return True', \"if agree():\\n    print('Splendid!')\\nelse:\\n    print('That was unexpected.')\", \"def echo(anything):\\n    return anything + ' ' + anything\", \"echo ('Rumplestiltskin')\", 'def commentary(color):\\n    if color == \\'red\\':\\n        return \"It\\'s a tomato.\"\\n    elif color == \\'green\\':\\n        return \"It\\'s a green pepper.\"\\n    elif color == \\'bee purple\\':\\n        return \"I don\\'t know what it is, but only bees can see it.\"\\n    else: \\n        return \"I\\'ve never heard of the color \" + color + \".\"', \"commentary('blue')\", 'print(do_nothing())', 'thing = None\\nif thing:\\n    print(\"It\\'s some thing\")\\nelse:\\n    print(\"It\\'s no thing\")', 'thing = None\\nif thing is None:\\n    print(\"It\\'s nothing\")\\nelse:\\n    print(\"It\\'s something\")', 'def whatis(thing):\\n    if thing is None:\\n        print(thing, \"is None\")\\n    elif thing:\\n        print(thing, \"is True\")\\n    else:\\n        print(thing, \"is False\")', 'whatis(None)', 'whatis(True)', 'whatis(False)', 'whatis(0)', 'whatis(0.0)', \"whatis('')\", 'whatis(\"\")', \"whatis('''''')\", 'whatis(())', 'whatis([])', 'whatis({})', 'whatis(set())', 'whatis(0.00001)', 'whatis([0])', \"whatis([''])\", \"whatis(' ')\", \"def menu(wine, entree, dessert):\\n    return {'wine': wine, 'entree': entree, 'dessert': dessert}\", \"menu('chardonnay', 'chicken', 'cake')\", \"menu('beef', 'bagel', 'bordeaux')\", \"menu(entree='beef', dessert='bagel', wine='bordeaux')\", \"menu('frontenac', dessert='flan', entree='fish')\", \"def menu(wine, entree, dessert='pudding'):\\n    return {'wine': wine, 'entree': entree, 'dessert': dessert}\", \"menu('chardonnay', 'chicken')\", \"menu('dunkelfelder', 'duck', 'doughnut')\", 'def buggy(arg, result=[]):\\n    result.append(arg)\\n    print(result)', \"buggy('a')\", \"buggy('b') # expect ['b']\", 'def works(arg):\\n    result = []\\n    result.append(arg)\\n    return result', \"works('a')\", \"works('b')\", 'def nonbuggy(arg, result=None):\\n    if result is None:\\n        result = []\\n    result.append(arg)\\n    return result', \"nonbuggy('a')\", \"nonbuggy('b')\", \"def print_args(*args):\\n    print('Positional tuple:', args)\", 'print_args()', \"print_args(3, 2, 1, 'wait!', 'uh...')\", \"def print_more(required1, required2, *arg):\\n    print('Need this one:', required1)\\n    print('Need this one too:', required2)\\n    print('All the rest:', arg)\", \"print_more('cap', 'gloves', 'scarf', 'monocle', 'mustache wax')\", \"print_args(2, 5, 7, 'x')\", \"args = (2, 5, 7, 'x')\\nprint_args(args)\", 'print_args(*args)', '*args', \"def print_kwargs(**kwargs):\\n    print('Keyword arguments:', kwargs)\", 'print_kwargs()', \"print_kwargs(wind='merlot', entree='mutton', dessert='macaroon')\", '**kwargs', 'def print_data(data, *, start=0, end=100):\\n    for value in (data[start:end]):\\n        print(value)', \"data = ['a', 'b', 'c', 'd', 'e', 'f']\", 'print_data(data)', 'print_data(data, start=4)', 'print_data(data, end=2)', \"outside = ['one', 'fine', 'day']\", \"def mangle(arg):\\n    arg[1] = 'terrible!'\", 'outside', 'mangle(outside)', 'outside', \"def echo(anything):\\n    'echo returns its input argument'\\n    return anything\", \"def print_if_true(thing, check):\\n    '''\\n    Prints the first argument if a second argument is true.\\n    The operation is:\\n        1. Check whether the *second* argument is true.\\n        2. If it is, print the *first* argument. \\n    '''\\n    if check: \\n        print(thing)\", 'help(echo)', 'print(echo.__doc__)', 'def answer():\\n    print(42)', 'answer()', 'def run_something(func):\\n    func()', 'run_something(answer)', 'type(run_something)', 'def add_args(arg1, arg2):\\n    print(arg1 + arg2)', 'type(add_args)', 'def run_something_with_args(func, arg1, arg2):\\n    func(arg1, arg2)', 'run_something_with_args(add_args, 5, 9)', 'def sum_args(*args):\\n    return sum(args)', 'def run_with_positional_args(func, *args):\\n    return func(*args)', 'run_with_positional_args(sum_args, 1, 2, 3, 4)', 'def knights(saying):\\n    def inner(quote):\\n        return \"We are the knights who say: \\'%s\\'\" %quote\\n    return inner(saying)', \"knights('Ni!')\", 'def knights2(saying):\\n    def inner2():\\n        return \"We are the knights who say: \\'%s\\'\" % saying\\n    return inner2', \"a = knights2('Duck')\\nb = knights2('Hasenpfeffer')\", 'type(a)', 'type(b)', 'a', 'b', 'a()', 'b()', 'def edit_story(words, func):\\n    for word in words:\\n        print(func(word))', \"stairs = ['thud', 'meow', 'thud', 'hiss']\", \"def enliven(word):\\n    return word.capitalize() + '!'\", 'edit_story(stairs, enliven)', \"edit_story(stairs, lambda word: word.capitalize()+'!')\", 'sum(range(1,101))', 'def my_range(first=0, last=10, step=1):\\n    number = first\\n    while number < last:\\n        yield number \\n        number += step', 'my_range ', 'ranger = my_range(1, 5)\\nranger  # a generator object', 'for x in ranger:\\n    print(x)', 'for try_again in ranger:\\n    print(try_again)', \"genobj = (pair for pair in zip(['a', 'b'], ['1', '2']))\", 'genobj', 'for thing in genobj:\\n    print(thing)', \"def document_it(func):\\n    def new_function(*args, **kwargs):\\n        print('Running function:', func.__name__)\\n        print('Positional arguments:', args)\\n        print('Keyword arguments:', kwargs)\\n        result = func(*args, **kwargs)\\n        print('Result:', result)\\n        return result\\n    return new_function\", 'def add_ints(a, b):\\n    return a + b', 'add_ints(3, 5)', 'cooler_add_ints = document_it(add_ints) # manual decorator assignment', 'cooler_add_ints(3, 5)', '@document_it\\ndef add_ints(a, b):\\n    return a + b', 'add_ints(3, 5)', 'def square_it(func):\\n    def new_function(*args, **kwargs):\\n        result = func(*args, **kwargs)\\n        return result * result\\n    return new_function', '@document_it\\n@square_it\\ndef add_ints(a, b):\\n    return a + b', 'add_ints(3, 5)', '@square_it\\n@document_it\\ndef add_ints(a, b):\\n    return a + b', 'add_ints(3, 5)', \"animal = 'fruitbat'\\ndef print_global():\\n    print('inside print_global:', animal)\", \"print('at the top level:', animal)\", 'print_global()', \"def change_and_print_global():\\n    print('inside change_and_print_global:', animal)\\n    animal = 'wombat'\\n    print('after the change:', animal)\", 'change_and_print_global()', \"def change_local():\\n    animal = 'wombat' # local namespace\\n    print('inside change_local:', animal, id(animal))\", 'change_local()', 'animal', 'id(animal)', \"animal = 'fruitbat'\", \"def change_and_print_global():\\n    # if you don't say global, \\n    # Python use the local namespace and the variable is local\\n    global animal\\n    animal = 'wombat'\\n    print('inside change_and_print_global:', animal)\", 'animal', 'change_and_print_global()', 'animal', \"animal = 'fruitbat'\\ndef change_local():\\n    animal = 'wombat' # local variable\\n    print('locals:', locals())\", 'animal', '# The local namespace within change_local() contained only the local variable animal\\nchange_local() ', \"print('globals', globals())\"], 'Out': {8: 'Rumplestiltskin Rumplestiltskin', 10: \"I've never heard of the color blue.\", 32: {'wine': 'chardonnay', 'entree': 'chicken', 'dessert': 'cake'}, 33: {'wine': 'beef', 'entree': 'bagel', 'dessert': 'bordeaux'}, 34: {'wine': 'bordeaux', 'entree': 'beef', 'dessert': 'bagel'}, 35: {'wine': 'frontenac', 'entree': 'fish', 'dessert': 'flan'}, 37: {'wine': 'chardonnay', 'entree': 'chicken', 'dessert': 'pudding'}, 38: {'wine': 'dunkelfelder', 'entree': 'duck', 'dessert': 'doughnut'}, 43: ['a'], 44: ['b'], 46: ['a'], 47: ['b'], 68: ['one', 'terrible!', 'day'], 70: ['one', 'terrible!', 'day'], 79: <class 'function'>, 81: <class 'function'>, 86: 10, 88: \"We are the knights who say: 'Ni!'\", 91: <class 'function'>, 92: <class 'function'>, 93: <function knights2.<locals>.inner2 at 0x10b0713b0>, 94: <function knights2.<locals>.inner2 at 0x10b071440>, 95: \"We are the knights who say: 'Duck'\", 96: \"We are the knights who say: 'Hasenpfeffer'\", 102: 5050, 104: <function my_range at 0x10b071b90>, 105: <generator object my_range at 0x10b051c50>, 109: <generator object <genexpr> at 0x10b051bd0>, 113: 8, 115: 8, 117: 8, 120: 64, 122: 64, 130: 'fruitbat', 131: 4479666736, 134: 'fruitbat', 136: 'wombat', 138: 'fruitbat'}, 'get_ipython': <bound method InteractiveShell.get_ipython of <ipykernel.zmqshell.ZMQInteractiveShell object at 0x10aebf310>>, 'exit': <IPython.core.autocall.ZMQExitAutocall object at 0x10af2ab90>, 'quit': <IPython.core.autocall.ZMQExitAutocall object at 0x10af2ab90>, '_': 'fruitbat', '__': 'wombat', '___': 'fruitbat', '_i': '# The local namespace within change_local() contained only the local variable animal\\nchange_local() ', '_ii': 'animal', '_iii': \"animal = 'fruitbat'\\ndef change_local():\\n    animal = 'wombat' # local variable\\n    print('locals:', locals())\", '_i1': 'def do_nothing():\\n    pass', 'do_nothing': <function do_nothing at 0x10b0144d0>, '_i2': 'do_nothing()', '_i3': \"def make_a_sound():\\n    print('quack')\", 'make_a_sound': <function make_a_sound at 0x10b0145f0>, '_i4': 'make_a_sound()', '_i5': 'def agree():\\n    return True', 'agree': <function agree at 0x10b014440>, '_i6': \"if agree():\\n    print('Splendid!')\\nelse:\\n    print('That was unexpected.')\", '_i7': \"def echo(anything):\\n    return anything + ' ' + anything\", 'echo': <function echo at 0x10b026050>, '_i8': \"echo ('Rumplestiltskin')\", '_8': 'Rumplestiltskin Rumplestiltskin', '_i9': 'def commentary(color):\\n    if color == \\'red\\':\\n        return \"It\\'s a tomato.\"\\n    elif color == \\'green\\':\\n        return \"It\\'s a green pepper.\"\\n    elif color == \\'bee purple\\':\\n        return \"I don\\'t know what it is, but only bees can see it.\"\\n    else: \\n        return \"I\\'ve never heard of the color \" + color + \".\"', 'commentary': <function commentary at 0x10b0149e0>, '_i10': \"commentary('blue')\", '_10': \"I've never heard of the color blue.\", '_i11': 'print(do_nothing())', '_i12': 'thing = None\\nif thing:\\n    print(\"It\\'s some thing\")\\nelse:\\n    print(\"It\\'s no thing\")', 'thing': ('b', '2'), '_i13': 'thing = None\\nif thing is None:\\n    print(\"It\\'s nothing\")\\nelse:\\n    print(\"It\\'s something\")', '_i14': 'def whatis(thing):\\n    if thing is None:\\n        print(thing, \"is None\")\\n    elif thing:\\n        print(thing, \"is True\")\\n    else:\\n        print(thing, \"is False\")', 'whatis': <function whatis at 0x10b0148c0>, '_i15': 'whatis(None)', '_i16': 'whatis(True)', '_i17': 'whatis(False)', '_i18': 'whatis(0)', '_i19': 'whatis(0.0)', '_i20': \"whatis('')\", '_i21': 'whatis(\"\")', '_i22': \"whatis('''''')\", '_i23': 'whatis(())', '_i24': 'whatis([])', '_i25': 'whatis({})', '_i26': 'whatis(set())', '_i27': 'whatis(0.00001)', '_i28': 'whatis([0])', '_i29': \"whatis([''])\", '_i30': \"whatis(' ')\", '_i31': \"def menu(wine, entree, dessert):\\n    return {'wine': wine, 'entree': entree, 'dessert': dessert}\", 'menu': <function menu at 0x10b014a70>, '_i32': \"menu('chardonnay', 'chicken', 'cake')\", '_32': {'wine': 'chardonnay', 'entree': 'chicken', 'dessert': 'cake'}, '_i33': \"menu('beef', 'bagel', 'bordeaux')\", '_33': {'wine': 'beef', 'entree': 'bagel', 'dessert': 'bordeaux'}, '_i34': \"menu(entree='beef', dessert='bagel', wine='bordeaux')\", '_34': {'wine': 'bordeaux', 'entree': 'beef', 'dessert': 'bagel'}, '_i35': \"menu('frontenac', dessert='flan', entree='fish')\", '_35': {'wine': 'frontenac', 'entree': 'fish', 'dessert': 'flan'}, '_i36': \"def menu(wine, entree, dessert='pudding'):\\n    return {'wine': wine, 'entree': entree, 'dessert': dessert}\", '_i37': \"menu('chardonnay', 'chicken')\", '_37': {'wine': 'chardonnay', 'entree': 'chicken', 'dessert': 'pudding'}, '_i38': \"menu('dunkelfelder', 'duck', 'doughnut')\", '_38': {'wine': 'dunkelfelder', 'entree': 'duck', 'dessert': 'doughnut'}, '_i39': 'def buggy(arg, result=[]):\\n    result.append(arg)\\n    print(result)', 'buggy': <function buggy at 0x10b014f80>, '_i40': \"buggy('a')\", '_i41': \"buggy('b') # expect ['b']\", '_i42': 'def works(arg):\\n    result = []\\n    result.append(arg)\\n    return result', 'works': <function works at 0x10b0260e0>, '_i43': \"works('a')\", '_43': ['a'], '_i44': \"works('b')\", '_44': ['b'], '_i45': 'def nonbuggy(arg, result=None):\\n    if result is None:\\n        result = []\\n    result.append(arg)\\n    return result', 'nonbuggy': <function nonbuggy at 0x10b026170>, '_i46': \"nonbuggy('a')\", '_46': ['a'], '_i47': \"nonbuggy('b')\", '_47': ['b'], '_i48': \"def print_args(*args):\\n    print('Positional tuple:', args)\", 'print_args': <function print_args at 0x10b026290>, '_i49': 'print_args()', '_i50': \"print_args(3, 2, 1, 'wait!', 'uh...')\", '_i51': \"def print_more(required1, required2, *arg):\\n    print('Need this one:', required1)\\n    print('Need this one too:', required2)\\n    print('All the rest:', arg)\", 'print_more': <function print_more at 0x10b0263b0>, '_i52': \"print_more('cap', 'gloves', 'scarf', 'monocle', 'mustache wax')\", '_i53': \"print_args(2, 5, 7, 'x')\", '_i54': \"args = (2, 5, 7, 'x')\\nprint_args(args)\", 'args': (2, 5, 7, 'x'), '_i55': 'print_args(*args)', '_i56': '*args', '_i57': \"def print_kwargs(**kwargs):\\n    print('Keyword arguments:', kwargs)\", 'print_kwargs': <function print_kwargs at 0x10b026830>, '_i58': 'print_kwargs()', '_i59': \"print_kwargs(wind='merlot', entree='mutton', dessert='macaroon')\", '_i60': '**kwargs', '_i61': 'def print_data(data, *, start=0, end=100):\\n    for value in (data[start:end]):\\n        print(value)', 'print_data': <function print_data at 0x10b026680>, '_i62': \"data = ['a', 'b', 'c', 'd', 'e', 'f']\", 'data': ['a', 'b', 'c', 'd', 'e', 'f'], '_i63': 'print_data(data)', '_i64': 'print_data(data, start=4)', '_i65': 'print_data(data, end=2)', '_i66': \"outside = ['one', 'fine', 'day']\", 'outside': ['one', 'terrible!', 'day'], '_i67': \"def mangle(arg):\\n    arg[1] = 'terrible!'\", 'mangle': <function mangle at 0x10b026b00>, '_i68': 'outside', '_68': ['one', 'terrible!', 'day'], '_i69': 'mangle(outside)', '_i70': 'outside', '_70': ['one', 'terrible!', 'day'], '_i71': \"def echo(anything):\\n    'echo returns its input argument'\\n    return anything\", '_i72': \"def print_if_true(thing, check):\\n    '''\\n    Prints the first argument if a second argument is true.\\n    The operation is:\\n        1. Check whether the *second* argument is true.\\n        2. If it is, print the *first* argument. \\n    '''\\n    if check: \\n        print(thing)\", 'print_if_true': <function print_if_true at 0x10b026710>, '_i73': 'help(echo)', '_i74': 'print(echo.__doc__)', '_i75': 'def answer():\\n    print(42)', 'answer': <function answer at 0x10b026d40>, '_i76': 'answer()', '_i77': 'def run_something(func):\\n    func()', 'run_something': <function run_something at 0x10b0269e0>, '_i78': 'run_something(answer)', '_i79': 'type(run_something)', '_79': <class 'function'>, '_i80': 'def add_args(arg1, arg2):\\n    print(arg1 + arg2)', 'add_args': <function add_args at 0x10b026dd0>, '_i81': 'type(add_args)', '_81': <class 'function'>, '_i82': 'def run_something_with_args(func, arg1, arg2):\\n    func(arg1, arg2)', 'run_something_with_args': <function run_something_with_args at 0x10b026320>, '_i83': 'run_something_with_args(add_args, 5, 9)', '_i84': 'def sum_args(*args):\\n    return sum(args)', 'sum_args': <function sum_args at 0x10b026c20>, '_i85': 'def run_with_positional_args(func, *args):\\n    return func(*args)', 'run_with_positional_args': <function run_with_positional_args at 0x10b071050>, '_i86': 'run_with_positional_args(sum_args, 1, 2, 3, 4)', '_86': 10, '_i87': 'def knights(saying):\\n    def inner(quote):\\n        return \"We are the knights who say: \\'%s\\'\" %quote\\n    return inner(saying)', 'knights': <function knights at 0x10b071170>, '_i88': \"knights('Ni!')\", '_88': \"We are the knights who say: 'Ni!'\", '_i89': 'def knights2(saying):\\n    def inner2():\\n        return \"We are the knights who say: \\'%s\\'\" % saying\\n    return inner2', 'knights2': <function knights2 at 0x10b071320>, '_i90': \"a = knights2('Duck')\\nb = knights2('Hasenpfeffer')\", 'a': <function knights2.<locals>.inner2 at 0x10b0713b0>, 'b': <function knights2.<locals>.inner2 at 0x10b071440>, '_i91': 'type(a)', '_91': <class 'function'>, '_i92': 'type(b)', '_92': <class 'function'>, '_i93': 'a', '_93': <function knights2.<locals>.inner2 at 0x10b0713b0>, '_i94': 'b', '_94': <function knights2.<locals>.inner2 at 0x10b071440>, '_i95': 'a()', '_95': \"We are the knights who say: 'Duck'\", '_i96': 'b()', '_96': \"We are the knights who say: 'Hasenpfeffer'\", '_i97': 'def edit_story(words, func):\\n    for word in words:\\n        print(func(word))', 'edit_story': <function edit_story at 0x10b0715f0>, '_i98': \"stairs = ['thud', 'meow', 'thud', 'hiss']\", 'stairs': ['thud', 'meow', 'thud', 'hiss'], '_i99': \"def enliven(word):\\n    return word.capitalize() + '!'\", 'enliven': <function enliven at 0x10b071680>, '_i100': 'edit_story(stairs, enliven)', '_i101': \"edit_story(stairs, lambda word: word.capitalize()+'!')\", '_i102': 'sum(range(1,101))', '_102': 5050, '_i103': 'def my_range(first=0, last=10, step=1):\\n    number = first\\n    while number < last:\\n        yield number \\n        number += step', 'my_range': <function my_range at 0x10b071b90>, '_i104': 'my_range ', '_104': <function my_range at 0x10b071b90>, '_i105': 'ranger = my_range(1, 5)\\nranger  # a generator object', 'ranger': <generator object my_range at 0x10b051c50>, '_105': <generator object my_range at 0x10b051c50>, '_i106': 'for x in ranger:\\n    print(x)', 'x': 4, '_i107': 'for try_again in ranger:\\n    print(try_again)', '_i108': \"genobj = (pair for pair in zip(['a', 'b'], ['1', '2']))\", 'genobj': <generator object <genexpr> at 0x10b051bd0>, '_i109': 'genobj', '_109': <generator object <genexpr> at 0x10b051bd0>, '_i110': 'for thing in genobj:\\n    print(thing)', '_i111': \"def document_it(func):\\n    def new_function(*args, **kwargs):\\n        print('Running function:', func.__name__)\\n        print('Positional arguments:', args)\\n        print('Keyword arguments:', kwargs)\\n        result = func(*args, **kwargs)\\n        print('Result:', result)\\n        return result\\n    return new_function\", 'document_it': <function document_it at 0x10b071560>, '_i112': 'def add_ints(a, b):\\n    return a + b', 'add_ints': <function square_it.<locals>.new_function at 0x10b07c8c0>, '_i113': 'add_ints(3, 5)', '_113': 8, '_i114': 'cooler_add_ints = document_it(add_ints) # manual decorator assignment', 'cooler_add_ints': <function document_it.<locals>.new_function at 0x10b071b00>, '_i115': 'cooler_add_ints(3, 5)', '_115': 8, '_i116': '@document_it\\ndef add_ints(a, b):\\n    return a + b', '_i117': 'add_ints(3, 5)', '_117': 8, '_i118': 'def square_it(func):\\n    def new_function(*args, **kwargs):\\n        result = func(*args, **kwargs)\\n        return result * result\\n    return new_function', 'square_it': <function square_it at 0x10b071a70>, '_i119': '@document_it\\n@square_it\\ndef add_ints(a, b):\\n    return a + b', '_i120': 'add_ints(3, 5)', '_120': 64, '_i121': '@square_it\\n@document_it\\ndef add_ints(a, b):\\n    return a + b', '_i122': 'add_ints(3, 5)', '_122': 64, '_i123': \"animal = 'fruitbat'\\ndef print_global():\\n    print('inside print_global:', animal)\", 'animal': 'fruitbat', 'print_global': <function print_global at 0x10b07c320>, '_i124': \"print('at the top level:', animal)\", '_i125': 'print_global()', '_i126': \"def change_and_print_global():\\n    print('inside change_and_print_global:', animal)\\n    animal = 'wombat'\\n    print('after the change:', animal)\", 'change_and_print_global': <function change_and_print_global at 0x10b0ec9e0>, '_i127': 'change_and_print_global()', '_i128': \"def change_local():\\n    animal = 'wombat' # local namespace\\n    print('inside change_local:', animal, id(animal))\", 'change_local': <function change_local at 0x10b0ec8c0>, '_i129': 'change_local()', '_i130': 'animal', '_130': 'fruitbat', '_i131': 'id(animal)', '_131': 4479666736, '_i132': \"animal = 'fruitbat'\", '_i133': \"def change_and_print_global():\\n    # if you don't say global, \\n    # Python use the local namespace and the variable is local\\n    global animal\\n    animal = 'wombat'\\n    print('inside change_and_print_global:', animal)\", '_i134': 'animal', '_134': 'fruitbat', '_i135': 'change_and_print_global()', '_i136': 'animal', '_136': 'wombat', '_i137': \"animal = 'fruitbat'\\ndef change_local():\\n    animal = 'wombat' # local variable\\n    print('locals:', locals())\", '_i138': 'animal', '_138': 'fruitbat', '_i139': '# The local namespace within change_local() contained only the local variable animal\\nchange_local() ', '_i140': \"print('globals', globals())\"}\n"
     ]
    }
   ],
   "source": [
    "print('globals', globals())"
   ]
  },
  {
   "cell_type": "markdown",
   "metadata": {},
   "source": [
    "## Use of _ and __ in Names"
   ]
  },
  {
   "cell_type": "markdown",
   "metadata": {},
   "source": [
    "Names that begin and end with two underscores (__) are reserved for use within Python, so you should not use them with your own variables\n",
    "* The name of a function is in the system variable function.\\_\\_name\\_\\_\n",
    "* The documentation string is function.\\_\\_doc\\_\\_\n",
    "* The main program is assigned the special name \\_\\_main\\_\\_"
   ]
  },
  {
   "cell_type": "code",
   "execution_count": 141,
   "metadata": {},
   "outputs": [],
   "source": [
    "def amazing():\n",
    "    ''' This is the amazing function.\n",
    "    Want to see it again?'''\n",
    "    print('This function is named:', amazing.__name__)\n",
    "    print('And its docstring is:', amazing.__doc__)"
   ]
  },
  {
   "cell_type": "code",
   "execution_count": 142,
   "metadata": {},
   "outputs": [
    {
     "name": "stdout",
     "output_type": "stream",
     "text": [
      "This function is named: amazing\n",
      "And its docstring is:  This is the amazing function.\n",
      "    Want to see it again?\n"
     ]
    }
   ],
   "source": [
    "amazing()"
   ]
  },
  {
   "cell_type": "markdown",
   "metadata": {},
   "source": [
    "## Recursion"
   ]
  },
  {
   "cell_type": "markdown",
   "metadata": {},
   "source": [
    "A function calls itself is called recursion "
   ]
  },
  {
   "cell_type": "markdown",
   "metadata": {},
   "source": [
    "Python saves the universe again by raising an exception if you get too deep "
   ]
  },
  {
   "cell_type": "code",
   "execution_count": 143,
   "metadata": {},
   "outputs": [],
   "source": [
    "def dive():\n",
    "    return dive()"
   ]
  },
  {
   "cell_type": "code",
   "execution_count": 144,
   "metadata": {},
   "outputs": [
    {
     "ename": "RecursionError",
     "evalue": "maximum recursion depth exceeded",
     "output_type": "error",
     "traceback": [
      "\u001b[0;31m---------------------------------------------------------------------------\u001b[0m",
      "\u001b[0;31mRecursionError\u001b[0m                            Traceback (most recent call last)",
      "\u001b[0;32m<ipython-input-144-2c8f7f491175>\u001b[0m in \u001b[0;36m<module>\u001b[0;34m\u001b[0m\n\u001b[0;32m----> 1\u001b[0;31m \u001b[0mdive\u001b[0m\u001b[0;34m(\u001b[0m\u001b[0;34m)\u001b[0m\u001b[0;34m\u001b[0m\u001b[0;34m\u001b[0m\u001b[0m\n\u001b[0m",
      "\u001b[0;32m<ipython-input-143-469b376c1f15>\u001b[0m in \u001b[0;36mdive\u001b[0;34m()\u001b[0m\n\u001b[1;32m      1\u001b[0m \u001b[0;32mdef\u001b[0m \u001b[0mdive\u001b[0m\u001b[0;34m(\u001b[0m\u001b[0;34m)\u001b[0m\u001b[0;34m:\u001b[0m\u001b[0;34m\u001b[0m\u001b[0;34m\u001b[0m\u001b[0m\n\u001b[0;32m----> 2\u001b[0;31m     \u001b[0;32mreturn\u001b[0m \u001b[0mdive\u001b[0m\u001b[0;34m(\u001b[0m\u001b[0;34m)\u001b[0m\u001b[0;34m\u001b[0m\u001b[0;34m\u001b[0m\u001b[0m\n\u001b[0m",
      "... last 1 frames repeated, from the frame below ...\n",
      "\u001b[0;32m<ipython-input-143-469b376c1f15>\u001b[0m in \u001b[0;36mdive\u001b[0;34m()\u001b[0m\n\u001b[1;32m      1\u001b[0m \u001b[0;32mdef\u001b[0m \u001b[0mdive\u001b[0m\u001b[0;34m(\u001b[0m\u001b[0;34m)\u001b[0m\u001b[0;34m:\u001b[0m\u001b[0;34m\u001b[0m\u001b[0;34m\u001b[0m\u001b[0m\n\u001b[0;32m----> 2\u001b[0;31m     \u001b[0;32mreturn\u001b[0m \u001b[0mdive\u001b[0m\u001b[0;34m(\u001b[0m\u001b[0;34m)\u001b[0m\u001b[0;34m\u001b[0m\u001b[0;34m\u001b[0m\u001b[0m\n\u001b[0m",
      "\u001b[0;31mRecursionError\u001b[0m: maximum recursion depth exceeded"
     ]
    }
   ],
   "source": [
    "dive()"
   ]
  },
  {
   "cell_type": "code",
   "execution_count": 145,
   "metadata": {},
   "outputs": [],
   "source": [
    "def flatten(lol):\n",
    "    for item in lol:\n",
    "        if isinstance(item, list):\n",
    "            for subitem in flatten(item):\n",
    "                yield subitem\n",
    "        else:\n",
    "            yield item"
   ]
  },
  {
   "cell_type": "code",
   "execution_count": 146,
   "metadata": {},
   "outputs": [],
   "source": [
    "lol = [1, 2, [3, 4, 5], [6, [7, 8, 9], []]]"
   ]
  },
  {
   "cell_type": "code",
   "execution_count": 147,
   "metadata": {},
   "outputs": [
    {
     "data": {
      "text/plain": [
       "<generator object flatten at 0x10afebbd0>"
      ]
     },
     "execution_count": 147,
     "metadata": {},
     "output_type": "execute_result"
    }
   ],
   "source": [
    "flatten(lol)"
   ]
  },
  {
   "cell_type": "code",
   "execution_count": 148,
   "metadata": {},
   "outputs": [
    {
     "data": {
      "text/plain": [
       "[1, 2, 3, 4, 5, 6, 7, 8, 9]"
      ]
     },
     "execution_count": 148,
     "metadata": {},
     "output_type": "execute_result"
    }
   ],
   "source": [
    "list(flatten(lol))"
   ]
  },
  {
   "cell_type": "markdown",
   "metadata": {},
   "source": [
    "Python 3.3 added the yield from expression, which lets a generator hand off some work to another generator. We can use it to simplify flatten()"
   ]
  },
  {
   "cell_type": "code",
   "execution_count": 149,
   "metadata": {},
   "outputs": [],
   "source": [
    "def flatten(lol):\n",
    "    for item in lol:\n",
    "        if isinstance(item, list):\n",
    "            yield from flatten(item)\n",
    "        else:\n",
    "            yield item"
   ]
  },
  {
   "cell_type": "code",
   "execution_count": 150,
   "metadata": {},
   "outputs": [],
   "source": [
    "lol = [1, 2, [3, 4, 5], [6, [7, 8, 9], []]]"
   ]
  },
  {
   "cell_type": "code",
   "execution_count": 151,
   "metadata": {},
   "outputs": [
    {
     "data": {
      "text/plain": [
       "[1, 2, 3, 4, 5, 6, 7, 8, 9]"
      ]
     },
     "execution_count": 151,
     "metadata": {},
     "output_type": "execute_result"
    }
   ],
   "source": [
    "list(flatten(lol))"
   ]
  },
  {
   "cell_type": "markdown",
   "metadata": {},
   "source": [
    "## Exceptions"
   ]
  },
  {
   "cell_type": "markdown",
   "metadata": {},
   "source": [
    "Python uses exceptions: code that is executed when an associated error occurs"
   ]
  },
  {
   "cell_type": "code",
   "execution_count": 152,
   "metadata": {},
   "outputs": [],
   "source": [
    "short_list = [1, 2, 3]"
   ]
  },
  {
   "cell_type": "code",
   "execution_count": 153,
   "metadata": {},
   "outputs": [],
   "source": [
    "position = 5"
   ]
  },
  {
   "cell_type": "code",
   "execution_count": 154,
   "metadata": {},
   "outputs": [
    {
     "ename": "IndexError",
     "evalue": "list index out of range",
     "output_type": "error",
     "traceback": [
      "\u001b[0;31m---------------------------------------------------------------------------\u001b[0m",
      "\u001b[0;31mIndexError\u001b[0m                                Traceback (most recent call last)",
      "\u001b[0;32m<ipython-input-154-1d40d01014e5>\u001b[0m in \u001b[0;36m<module>\u001b[0;34m\u001b[0m\n\u001b[0;32m----> 1\u001b[0;31m \u001b[0mshort_list\u001b[0m\u001b[0;34m[\u001b[0m\u001b[0mposition\u001b[0m\u001b[0;34m]\u001b[0m\u001b[0;34m\u001b[0m\u001b[0;34m\u001b[0m\u001b[0m\n\u001b[0m",
      "\u001b[0;31mIndexError\u001b[0m: list index out of range"
     ]
    }
   ],
   "source": [
    "short_list[position]"
   ]
  },
  {
   "cell_type": "markdown",
   "metadata": {},
   "source": [
    "## Handle Errors wirh try and except"
   ]
  },
  {
   "cell_type": "markdown",
   "metadata": {},
   "source": [
    "Rather than leaving things to change, use try to wrap your code, and except to provide the error handling. The code inside the try block is run. If there is an error, an exception is raised and the code inside the except block runs. If there are no errors, the except block is skipped."
   ]
  },
  {
   "cell_type": "code",
   "execution_count": 155,
   "metadata": {},
   "outputs": [
    {
     "name": "stdout",
     "output_type": "stream",
     "text": [
      "Need a position between 0 and 2 but got 5\n"
     ]
    }
   ],
   "source": [
    "shorted_list = [1, 2, 3]\n",
    "position = 5\n",
    "try:\n",
    "    short_list[position]\n",
    "except:\n",
    "    print('Need a position between 0 and', len(short_list)-1, 'but got', position)"
   ]
  },
  {
   "cell_type": "markdown",
   "metadata": {},
   "source": [
    "If more than one type of exception could occur, it's best to provide a separate exception handler for each. You get the full exception object  in the variable name if you use the form."
   ]
  },
  {
   "cell_type": "raw",
   "metadata": {},
   "source": [
    "except ExceptionType as name "
   ]
  },
  {
   "cell_type": "code",
   "execution_count": 156,
   "metadata": {},
   "outputs": [
    {
     "name": "stdout",
     "output_type": "stream",
     "text": [
      "Position [q to quit]?1\n",
      "2\n",
      "Position [q to quit]?2\n",
      "3\n",
      "Position [q to quit]?3\n",
      "Bad index: 3\n",
      "Position [q to quit]?hi\n",
      "Something else broke: invalid literal for int() with base 10: 'hi'\n",
      "Position [q to quit]?q\n"
     ]
    }
   ],
   "source": [
    "short_list = [1, 2, 3]\n",
    "while True:\n",
    "    value = input('Position [q to quit]?')\n",
    "    if value == 'q':\n",
    "        break\n",
    "    try:\n",
    "        position = int(value)\n",
    "        print(short_list[position])\n",
    "    except IndexError as err:\n",
    "        print('Bad index:', position)\n",
    "    except Exception as other:\n",
    "        print('Something else broke:', other)"
   ]
  },
  {
   "cell_type": "markdown",
   "metadata": {},
   "source": [
    "## Make Your Own Exceptions"
   ]
  },
  {
   "cell_type": "markdown",
   "metadata": {},
   "source": [
    "You can also define your own exception types to handle special situations that might arise in your own programs."
   ]
  },
  {
   "cell_type": "markdown",
   "metadata": {},
   "source": [
    "An exception is a class. It is a child of the class Exception."
   ]
  },
  {
   "cell_type": "markdown",
   "metadata": {},
   "source": [
    "We didn't even define any behavior for UppercaseException, letting its paranet class Exception figure out what to print when the exception was raised. "
   ]
  },
  {
   "cell_type": "code",
   "execution_count": 157,
   "metadata": {},
   "outputs": [],
   "source": [
    "class UppercaseException(Exception):\n",
    "    pass"
   ]
  },
  {
   "cell_type": "code",
   "execution_count": 158,
   "metadata": {},
   "outputs": [],
   "source": [
    "words = ['eenie', 'meenie', 'miny', 'MO']"
   ]
  },
  {
   "cell_type": "code",
   "execution_count": 159,
   "metadata": {},
   "outputs": [
    {
     "ename": "UppercaseException",
     "evalue": "MO",
     "output_type": "error",
     "traceback": [
      "\u001b[0;31m---------------------------------------------------------------------------\u001b[0m",
      "\u001b[0;31mUppercaseException\u001b[0m                        Traceback (most recent call last)",
      "\u001b[0;32m<ipython-input-159-75fd7259d9f7>\u001b[0m in \u001b[0;36m<module>\u001b[0;34m\u001b[0m\n\u001b[1;32m      1\u001b[0m \u001b[0;32mfor\u001b[0m \u001b[0mword\u001b[0m \u001b[0;32min\u001b[0m \u001b[0mwords\u001b[0m\u001b[0;34m:\u001b[0m\u001b[0;34m\u001b[0m\u001b[0;34m\u001b[0m\u001b[0m\n\u001b[1;32m      2\u001b[0m     \u001b[0;32mif\u001b[0m \u001b[0mword\u001b[0m\u001b[0;34m.\u001b[0m\u001b[0misupper\u001b[0m\u001b[0;34m(\u001b[0m\u001b[0;34m)\u001b[0m\u001b[0;34m:\u001b[0m\u001b[0;34m\u001b[0m\u001b[0;34m\u001b[0m\u001b[0m\n\u001b[0;32m----> 3\u001b[0;31m         \u001b[0;32mraise\u001b[0m \u001b[0mUppercaseException\u001b[0m\u001b[0;34m(\u001b[0m\u001b[0mword\u001b[0m\u001b[0;34m)\u001b[0m\u001b[0;34m\u001b[0m\u001b[0;34m\u001b[0m\u001b[0m\n\u001b[0m",
      "\u001b[0;31mUppercaseException\u001b[0m: MO"
     ]
    }
   ],
   "source": [
    "for word in words:\n",
    "    if word.isupper():\n",
    "        raise UppercaseException(word)"
   ]
  }
 ],
 "metadata": {
  "kernelspec": {
   "display_name": "Python 3",
   "language": "python",
   "name": "python3"
  },
  "language_info": {
   "codemirror_mode": {
    "name": "ipython",
    "version": 3
   },
   "file_extension": ".py",
   "mimetype": "text/x-python",
   "name": "python",
   "nbconvert_exporter": "python",
   "pygments_lexer": "ipython3",
   "version": "3.7.6"
  }
 },
 "nbformat": 4,
 "nbformat_minor": 2
}
